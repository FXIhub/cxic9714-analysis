{
 "cells": [
  {
   "cell_type": "markdown",
   "metadata": {},
   "source": [
    "## Size vs. Intensity (Figure 5)"
   ]
  },
  {
   "cell_type": "code",
   "execution_count": 1,
   "metadata": {
    "collapsed": true
   },
   "outputs": [],
   "source": [
    "# Import modules\n",
    "import sys, h5py\n",
    "import numpy as np\n",
    "%matplotlib inline\n",
    "\n",
    "# Import modules from src directory\n",
    "sys.path.append(\"../src\")\n",
    "import plotting"
   ]
  },
  {
   "cell_type": "code",
   "execution_count": 2,
   "metadata": {
    "collapsed": true
   },
   "outputs": [],
   "source": [
    "# Configuration\n",
    "simulation_shape = (20, 80*300)\n",
    "simulation_grid_shape = (80,300)\n",
    "simulation_x = np.arange(0,300)\n",
    "simulation_y = np.logspace(15,19,80) * (1000 * 50e-15) / 1e8\n",
    "simulation_X, simulation_Y = np.meshgrid(simulation_x, simulation_y)\n",
    "wavelength  = 0.22621e-9 #[m]\n",
    "pulse_length = 50e-15 #[s]"
   ]
  },
  {
   "cell_type": "code",
   "execution_count": 3,
   "metadata": {
    "collapsed": false
   },
   "outputs": [],
   "source": [
    "# I/O settings\n",
    "plotdir = '/Users/benedikt/phd-project/documentation/manuscripts/omrv-paper/manuscript/figures/'"
   ]
  },
  {
   "cell_type": "markdown",
   "metadata": {},
   "source": [
    "### 1. Loading data from file"
   ]
  },
  {
   "cell_type": "code",
   "execution_count": 4,
   "metadata": {
    "collapsed": true
   },
   "outputs": [],
   "source": [
    "results_filename = '../meta/results.h5'\n",
    "with h5py.File(results_filename, 'r') as f:\n",
    "    diameter  = f['diameter'][:]\n",
    "    intensity = f['intensity'][:]\n",
    "    centerx   = f['centerx'][:]\n",
    "    centery   = f['centery'][:]\n",
    "    hitscore  = f['npeaks'][:]\n",
    "    time      = f['time_s'][:]\n",
    "    injectorx = f['injector_posx'][:]\n",
    "    injectorz = f['injector_posz'][:]"
   ]
  },
  {
   "cell_type": "code",
   "execution_count": 5,
   "metadata": {
    "collapsed": false
   },
   "outputs": [],
   "source": [
    "simulation_filename = '../meta/sphere_simulation.h5'\n",
    "with h5py.File(simulation_filename, 'r') as f:\n",
    "    simulation_hitscore = f['results']['npeaks'][:].reshape(simulation_shape)\n",
    "simulation_hitscore = simulation_hitscore.mean(axis=0).reshape(simulation_grid_shape)"
   ]
  },
  {
   "cell_type": "markdown",
   "metadata": {},
   "source": [
    "### 2. Units and detection limits"
   ]
  },
  {
   "cell_type": "code",
   "execution_count": 6,
   "metadata": {
    "collapsed": false
   },
   "outputs": [],
   "source": [
    "# Fit detection limit using polynomials\n",
    "detection_limit_y1 = simulation_Y[:,:48][(simulation_hitscore[:,:48] > 600-20) & (simulation_hitscore[:,:48] < 600+20)]\n",
    "detection_limit_x1 = simulation_X[:,:48][(simulation_hitscore[:,:48] > 600-20) & (simulation_hitscore[:,:48] < 600+20)]\n",
    "detection_limit_p1 = np.poly1d(np.polyfit(detection_limit_x1, detection_limit_y1, 8))\n",
    "detection_limit_y2 = simulation_Y[:,45:80][(simulation_hitscore[:,45:80] > 600-20) & (simulation_hitscore[:,45:80] < 600+20)]\n",
    "detection_limit_x2 = simulation_X[:,45:80][(simulation_hitscore[:,45:80] > 600-20) & (simulation_hitscore[:,45:80] < 600+20)]\n",
    "detection_limit_p2 = np.poly1d(np.polyfit(detection_limit_x2, detection_limit_y2, 3))\n",
    "detection_limit_y3 = simulation_Y[:,75:][(simulation_hitscore[:,75:] > 600-20) & (simulation_hitscore[:,75:] < 600+20)]\n",
    "detection_limit_x3 = simulation_X[:,75:][(simulation_hitscore[:,75:] > 600-20) & (simulation_hitscore[:,75:] < 600+20)]\n",
    "detection_limit_p3 = np.poly1d(np.polyfit(detection_limit_x3, detection_limit_y3, 6))\n",
    "detection_limit = detection_limit_p1(simulation_x) * (simulation_x <= 43) + detection_limit_p2(simulation_x) * ((simulation_x > 43) & (simulation_x <= 79)) + detection_limit_p3(simulation_x) * (simulation_x > 79)\n",
    "\n",
    "# Correct for detector efficiency\n",
    "intensity *= (1./0.955)\n",
    "\n",
    "# Intensity in Nr. of photons\n",
    "h = 6.62606957e-34 #Js\n",
    "c = 299792458 #m/s\n",
    "hc = h*c  #Jm\n",
    "intensity_NrPhum2 = ((intensity / 1000.) * wavelength) / (hc)\n",
    "intensity_NrPh    = intensity_NrPhum2 * np.pi * (1e-3*diameter/2.)**2\n",
    "intensity = intensity_NrPhum2\n",
    "simulation_y = ((simulation_y / 1000.) * wavelength) / (hc) \n",
    "simulation_Y = ((simulation_Y / 1000.) * wavelength) / (hc) "
   ]
  },
  {
   "cell_type": "markdown",
   "metadata": {},
   "source": [
    "### 3. Heatmap and histograms"
   ]
  },
  {
   "cell_type": "code",
   "execution_count": 7,
   "metadata": {
    "collapsed": false
   },
   "outputs": [],
   "source": [
    "# Heatmap\n",
    "bins_diameter  = np.hstack([simulation_x[::4], simulation_x[-1]+1])\n",
    "bins_intensity = np.logspace(9,13,75)\n",
    "bin_array = [bins_diameter, bins_intensity]\n",
    "\n",
    "# Histogram of diameter\n",
    "diameter_good = diameter[(diameter>30) & (intensity>simulation_y[20])]\n",
    "hist_diameter, edges_diameter = np.histogram(diameter_good, range=(0,300), bins=100, density=False)\n",
    "\n",
    "# Histogram of diameter (red)\n",
    "diameter_good_red = diameter[(intensity>6e10)]# & (intensity<2e-1)]\n",
    "hist_diameter_red, edges_diameter_red = np.histogram(diameter_good_red, range=(0,300), bins=150, density=False)\n",
    "\n",
    "# Histogram of intensity/diameter (green)\n",
    "diameter_good_green = diameter[(diameter > 0) & (diameter < 60) & (intensity>6e-2)]\n",
    "intensity_good_green = intensity[(diameter > 0) & (diameter < 60) & (intensity>6e-2)]\n",
    "hist_diameter_green, edges_diameter_green = np.histogram(diameter_good_green, range=(0,60), bins=30, density=False)\n",
    "hist_intensity_green, edges_intensity_green = np.histogram(intensity_good_green, bins=bins_intensity[::2])"
   ]
  },
  {
   "cell_type": "markdown",
   "metadata": {},
   "source": [
    "### 4. Plotting"
   ]
  },
  {
   "cell_type": "code",
   "execution_count": 8,
   "metadata": {
    "collapsed": false
   },
   "outputs": [
    {
     "data": {
      "image/png": "[encoded data removed]",
      "text/plain": [
       "<matplotlib.figure.Figure at 0x1102c01d0>"
      ]
     },
     "metadata": {},
     "output_type": "display_data"
    }
   ],
   "source": [
    "plot = plotting.Plot(fontsize=8, cols=3, rows=2, exclude=[0,1,3,4], border_in=0.25, colorbar=False, legend=False, \n",
    "                     legend_location=1, save_pdf=True)\n",
    "plot.add_axes((0,0), 2,2, hfrac=0.93)\n",
    "plot.add_axes((0,0), 2,1, pady=0.762, hfrac=0.1)\n",
    "plot.title_label = 4*['']\n",
    "plot.xlabel = [r'Particle diameter'] + [r'Particle diameter'] + [r'Particle diameter [nm]'] + ['']\n",
    "plot.ylabel = 2*[''] + [r'Photon intensity [photons$/\\mu$m$^2$]'] + ['']\n",
    "plot.colorbar_label = r'Counts'\n",
    "\n",
    "plot.plotting_a_heatmap(2, diameter, intensity, [(0,300),(1e9, simulation_y.max())], bins=bin_array, \n",
    "                        cmaplist=['viridis'], under='w', vmin=1, cax=plot.axes[3], \n",
    "                        colorbar_orientation='horizontal', colorbar=True)\n",
    "plot.plotting_a_contour(2, simulation_X, simulation_Y, simulation_hitscore,\n",
    "                        (600,), colors='0.5', linewidths=1.5, label=False)\n",
    "plot.axes[2].axvline(35, color='0.5', linestyle='--', linewidth=1.5)\n",
    "plot.axes[2].axhline(simulation_y[20], color='0.5', linestyle='--', linewidth=1.5)\n",
    "plot.plotting_a_rectangle(2, 35, 6e10, 264, 2.2e12, edgecolor='r', facecolor='none', alpha=1, linewidth=2)\n",
    "plot.axes[2].spines['top'].set_visible(False)\n",
    "plot.axes[2].spines['right'].set_visible(False)\n",
    "plot.axes[2].semilogy()\n",
    "plot.axes[2].set_ylim([1e9,4e12])\n",
    "plot.axes[2].text(-30,4e12,'(a)', va='top', ha='left', fontsize=10)\n",
    "plot.axes[2].tick_params(axis='x', which='both', top='off', bottom='on', labeltop='off', labelbottom='on')\n",
    "plot.axes[2].tick_params(axis='y', which='both', left='on', right='off', labelleft='on', labelright='off')\n",
    "\n",
    "\n",
    "plot.axes[3].set_ylabel('')\n",
    "plot.axes[3].set_xlabel(r'Counts', fontsize=8)\n",
    "plot.axes[3].xaxis.set_label_position('top')\n",
    "plot.axes[3].tick_params(axis='x', which='both', top='on', bottom='off', labeltop='on', labelbottom='off')\n",
    "\n",
    "plot.plotting_a_histogram(0,hist_diameter_red, edges_diameter_red, xlim=(-30,300), type='bar',\n",
    "                          edgewidth=0, color=['r'], label=['Histogram'], logx=False, logy=False)\n",
    "plot.plotting_a_rectangle(0, 10, 0.1, 60, 55, edgecolor='g', facecolor='none', linewidth=2)\n",
    "plot.axes[0].tick_params(axis='y', which='both', left='off', right='off', labelleft='off', labelright='off')\n",
    "plot.axes[0].tick_params(axis='x', which='both', top='off', bottom='on', labeltop='off', labelbottom='on')\n",
    "plot.axes[0].xaxis.set_label_position('bottom')\n",
    "plot.axes[0].xaxis.labelpad = -7\n",
    "plot.axes[0].text(-30,65,'(b)', va='top', ha='center', fontsize=10)\n",
    "plot.axes[0].spines['top'].set_visible(False)\n",
    "plot.axes[0].spines['left'].set_visible(False)\n",
    "plot.axes[0].spines['right'].set_visible(False)\n",
    "plot.axes[0].set_xticks([0,300])\n",
    "\n",
    "colors = len(edges_diameter_green) * ['g']\n",
    "colors[19] = 'b'\n",
    "plot.plotting_a_histogram(1,hist_diameter_green, edges_diameter_green, xlim=(10,60), ylim=[0,100], type='bar',\n",
    "                          edgewidth=0.5, color=[colors], label=['Histogram'], logx=False, logy=False)\n",
    "plot.axes[1].tick_params(axis='y', which='both', left='off', right='off', labelleft='off', labelright='off')\n",
    "plot.axes[1].tick_params(axis='x', which='both', top='off', bottom='on', labeltop='off', labelbottom='on')\n",
    "plot.axes[1].text(10,100,'(c)', va='top', ha='center', fontsize=10)\n",
    "plot.axes[1].xaxis.labelpad = -7\n",
    "plot.axes[1].spines['top'].set_visible(False)\n",
    "plot.axes[1].spines['left'].set_visible(False)\n",
    "plot.axes[1].spines['right'].set_visible(False)\n",
    "plot.axes[1].set_xticks([10,60])\n",
    "plot.axes[1].text(35,55,r'40 nm', fontsize=8, ha='right', va='bottom')\n",
    "\n",
    "#plot.save(plotdir + 'fig_size_vs_intensity_heatmap.pdf')\n",
    "plot.show()"
   ]
  },
  {
   "cell_type": "markdown",
   "metadata": {
    "collapsed": true
   },
   "source": [
    "**Figure 5.**\n",
    "Classification of hits based on fitting to sphere diffraction model.                                                                                                      \n",
    "(a) Distribution of particle sizes and incident photon intensities shown as a 2D histogram.                                                                                        \n",
    "The solid/dashed gray lines indicates the same detection/classification limits as described in Figure 2.                                                        \n",
    "The size of a diameter bin was chosen to be $4$~nm, while                                                                                                                          \n",
    "in the intensity direction, $75$ bins have been logarithmically distributed between $10^9$ and $10^{13}$ photons/$\\mu$m$^2$.                                                       \n",
    "(b) Overall distribution of particle sizes (integrated inside the red rectangle                                                                                                    \n",
    "along the vertical direction) with a bin size of $2$~nm.                                                                                                                          \n",
    "(c) A zoomed in region of the same size distribution as shown in (b) around the                                                                                                    \n",
    "expected particle size of ${\\sim}40$~nm. "
   ]
  }
 ],
 "metadata": {
  "kernelspec": {
   "display_name": "Python 2",
   "language": "python",
   "name": "python2"
  },
  "language_info": {
   "codemirror_mode": {
    "name": "ipython",
    "version": 2
   },
   "file_extension": ".py",
   "mimetype": "text/x-python",
   "name": "python",
   "nbconvert_exporter": "python",
   "pygments_lexer": "ipython2",
   "version": "2.7.10"
  }
 },
 "nbformat": 4,
 "nbformat_minor": 0
}
