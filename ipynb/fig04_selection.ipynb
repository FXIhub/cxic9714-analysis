{
 "cells": [
  {
   "cell_type": "markdown",
   "metadata": {},
   "source": [
    "## Selection of diffraction patterns (Figure 4)"
   ]
  },
  {
   "cell_type": "code",
   "execution_count": 1,
   "metadata": {
    "collapsed": true
   },
   "outputs": [],
   "source": [
    "# Import modules\n",
    "import sys, h5py\n",
    "import numpy as np\n",
    "%matplotlib inline\n",
    "\n",
    "# Import modules from src directory\n",
    "sys.path.append(\"../src\")\n",
    "import plotting"
   ]
  },
  {
   "cell_type": "code",
   "execution_count": 2,
   "metadata": {
    "collapsed": true
   },
   "outputs": [],
   "source": [
    "# I/O settings\n",
    "plotdir = '/Users/benedikt/phd-project/documentation/manuscripts/omrv-paper/manuscript/figures/'"
   ]
  },
  {
   "cell_type": "markdown",
   "metadata": {},
   "source": [
    "### 1. Loading data from file"
   ]
  },
  {
   "cell_type": "code",
   "execution_count": 3,
   "metadata": {
    "collapsed": false
   },
   "outputs": [],
   "source": [
    "filename_selection  = '../meta/selection.h5'\n",
    "with h5py.File(filename_selection, 'r') as f:\n",
    "    data = f['data/data'][:]\n",
    "    mask = f['data/mask'][:]\n",
    "c = 700\n",
    "data_cropped = data[:,c-18:-c+36,c-24:-c+30]\n",
    "mask_cropped = mask[:,c-18:-c+36,c-24:-c+30]"
   ]
  },
  {
   "cell_type": "markdown",
   "metadata": {},
   "source": [
    "### 2. Plotting"
   ]
  },
  {
   "cell_type": "code",
   "execution_count": 5,
   "metadata": {
    "collapsed": false
   },
   "outputs": [],
   "source": [
    "plot = plotting.Plot(fontsize=8, rows=2, cols=4, border_in=0.0, colorbar=True, save_pdf=True)\n",
    "plot.xlabel = 8*['']\n",
    "plot.ylabel = 8*['']\n",
    "plot.title_label = 8*['']\n",
    "plot.colorbar_label = r'Scattered intensity [photons / pixel]'\n",
    "for i in range(8):\n",
    "    plot.plotting_a_map(i, np.rot90(data_cropped[i],k=2), mask=np.rot90(~mask_cropped[i],k=2), \n",
    "                        log=False, vmin=1, vmax=22, discrete_colors=21, under='w', bad='0.8', cmap='discrete')\n",
    "    plot.axes[i].set_xticks([])\n",
    "    plot.axes[i].set_yticks([])\n",
    "    plot.axes[i].set_xticklabels([])\n",
    "    plot.axes[i].set_yticklabels([])\n",
    "    plot.cb.ax.tick_params(length=0, width=0)\n",
    "    plot.cb.set_ticks(list(np.arange(0,24,2) - 0.55))\n",
    "    plot.cb.set_ticklabels(['%d' %d for d in range(0,22,2)[:-1]] + [r'$\\mathbf{\\geq}$ 20'])\n",
    "    plot.cb.outline.set_visible(False)\n",
    "    plot.axes[i].spines['top'].set_linewidth(0.5)\n",
    "    plot.axes[i].spines['right'].set_linewidth(0.5)\n",
    "    plot.axes[i].spines['bottom'].set_linewidth(0.5)\n",
    "    plot.axes[i].spines['left'].set_linewidth(0.5)\n",
    "\n",
    "plot.save(plotdir + 'fig_selection.pdf')\n",
    "plot.show()  "
   ]
  },
  {
   "cell_type": "markdown",
   "metadata": {},
   "source": [
    "**Figure 4.**\n",
    "$8$ selected hits showing a variety of different diffraction patterns.                                                                             \n",
    "Masked values are shown in gray."
   ]
  }
 ],
 "metadata": {
  "kernelspec": {
   "display_name": "Python 2",
   "language": "python",
   "name": "python2"
  },
  "language_info": {
   "codemirror_mode": {
    "name": "ipython",
    "version": 2
   },
   "file_extension": ".py",
   "mimetype": "text/x-python",
   "name": "python",
   "nbconvert_exporter": "python",
   "pygments_lexer": "ipython2",
   "version": "2.7.10"
  }
 },
 "nbformat": 4,
 "nbformat_minor": 0
}
