{
 "cells": [
  {
   "cell_type": "markdown",
   "metadata": {},
   "source": [
    "## Signal vs. Resolution (Figure 10)"
   ]
  },
  {
   "cell_type": "markdown",
   "metadata": {},
   "source": [
    "We are studying the signal from a single shot in comparison to the average background as function of resolution."
   ]
  },
  {
   "cell_type": "code",
   "execution_count": 1,
   "metadata": {
    "collapsed": true
   },
   "outputs": [],
   "source": [
    "# Import modules\n",
    "import sys, h5py\n",
    "import numpy as np\n",
    "import scipy.ndimage as ndimage\n",
    "import spimage\n",
    "%matplotlib inline\n",
    "\n",
    "# Import modules from src directory\n",
    "sys.path.append(\"../src\")\n",
    "import plotting"
   ]
  },
  {
   "cell_type": "code",
   "execution_count": 2,
   "metadata": {
    "collapsed": true
   },
   "outputs": [],
   "source": [
    "# Configuration (Experiment)\n",
    "distance_back  = 2.4 #[m]\n",
    "distance_front = 0.497 #[m]\n",
    "pixelsize = 110e-6 #[m]\n",
    "wavelength = 0.2262e-9 #[m]\n",
    "scaling = (distance_back/distance_front)**2\n",
    "\n",
    "# Cropping of front detector\n",
    "c  = 700   "
   ]
  },
  {
   "cell_type": "markdown",
   "metadata": {},
   "source": [
    "### 1. Loading data from file"
   ]
  },
  {
   "cell_type": "code",
   "execution_count": 3,
   "metadata": {
    "collapsed": false
   },
   "outputs": [],
   "source": [
    "filename_signal = \"../analysis/signal/signal_assembled.h5\"\n",
    "filename_back  = '../analysis/signal/signal_back.h5'\n",
    "filename_front = '../analysis/signal/signal_front.h5'\n",
    "filename_background_buffer = \"../analysis/background/background_buffer_stats.h5\"\n",
    "filename_mask_front_poisson = \"../analysis/masks/front_mask_poisson.h5\""
   ]
  },
  {
   "cell_type": "code",
   "execution_count": 4,
   "metadata": {
    "collapsed": false
   },
   "outputs": [
    {
     "name": "stdout",
     "output_type": "stream",
     "text": [
      "Loaded signal with ID (LCLS_2014_Apr14_r0182_201014_168e4), diameter (43.24 nm) and intensity (0.76 mJ/um2)\n"
     ]
    }
   ],
   "source": [
    "# Loading the signal (assembled)\n",
    "with h5py.File(filename_signal, 'r') as f:\n",
    "    signal_data = np.rot90(f['data/data'][:], k=2)                                                                                                                               \n",
    "    signal_mask = ~np.rot90(f['data/mask'][:].astype(np.bool), k=2)  \n",
    "    signal_diameter = f['diameter'][...]\n",
    "    signal_intensity = f['intensity'][...]\n",
    "    signal_id = f['id'][...]\n",
    "print \"Loaded signal with ID (%s), diameter (%.2f nm) and intensity (%.2f mJ/um2)\" %(signal_id, signal_diameter, signal_intensity)"
   ]
  },
  {
   "cell_type": "code",
   "execution_count": 5,
   "metadata": {
    "collapsed": false
   },
   "outputs": [],
   "source": [
    "# Loading the signal (back)\n",
    "with h5py.File(filename_back, 'r') as f:\n",
    "    signal_back  = f['data']['data'][:]\n",
    "    signal_bmask = f['data']['mask'][:].astype(np.bool)"
   ]
  },
  {
   "cell_type": "code",
   "execution_count": 6,
   "metadata": {
    "collapsed": false
   },
   "outputs": [],
   "source": [
    "# Loading the signal (front)\n",
    "with h5py.File(filename_front, 'r') as f:\n",
    "    signal_front  = np.rot90(f['data']['data'][:], k=2).astype(np.float)"
   ]
  },
  {
   "cell_type": "code",
   "execution_count": 7,
   "metadata": {
    "collapsed": false
   },
   "outputs": [
    {
     "name": "stdout",
     "output_type": "stream",
     "text": [
      "Loaded buffer background from 11847 frames\n"
     ]
    }
   ],
   "source": [
    "# Loading the background (buffer)\n",
    "with h5py.File(filename_background_buffer, 'r') as f:\n",
    "    buffer_back_mean  = f['back/mean'][:]\n",
    "    buffer_back_std   = f['back/std'][:]\n",
    "    buffer_front_mean = np.rot90(f['front/mean'][:], k=2)\n",
    "    buffer_front_std  = np.rot90(f['front/std'][:], k=2)\n",
    "    nframes    = f['nframes'][...]\n",
    "print \"Loaded buffer background from %d frames\" %nframes"
   ]
  },
  {
   "cell_type": "code",
   "execution_count": 8,
   "metadata": {
    "collapsed": false
   },
   "outputs": [],
   "source": [
    "with h5py.File(filename_mask_front_poisson, 'r') as f:\n",
    "    fmask = f['data/data'][:].astype(np.bool)"
   ]
  },
  {
   "cell_type": "markdown",
   "metadata": {},
   "source": [
    "### 2. Radial average"
   ]
  },
  {
   "cell_type": "code",
   "execution_count": 9,
   "metadata": {
    "collapsed": false
   },
   "outputs": [],
   "source": [
    "# Center of front detector\n",
    "cx_back=(buffer_back_mean.shape[1]-1)/2.0-16\n",
    "cy_back=(buffer_back_mean.shape[0]-1)/2.0-36\n",
    "\n",
    "# Center of front detector\n",
    "cx_front=(buffer_front_mean.shape[1]-1)/2.0-3\n",
    "cy_front=(buffer_front_mean.shape[0]-1)/2.0-20"
   ]
  },
  {
   "cell_type": "code",
   "execution_count": 10,
   "metadata": {
    "collapsed": false
   },
   "outputs": [],
   "source": [
    "# Convert index to q (in nm)\n",
    "x_to_q = lambda x, d: (2*np.sin(np.arctan2(x*pixelsize, d)/2.)) / wavelength / 1e9\n",
    "# Convert q to index (in nm)\n",
    "q_to_x = lambda q, d: np.tan(2.*np.arcsin(wavelength * 1e9 * q / 2.)) * d / pixelsize"
   ]
  },
  {
   "cell_type": "code",
   "execution_count": 11,
   "metadata": {
    "collapsed": false
   },
   "outputs": [],
   "source": [
    "# Radial average of signal (back)\n",
    "back_centers, back_radial = spimage.radialMeanImage(signal_back, msk=signal_bmask, cx=cx_back, cy=cy_back, output_r=True)\n",
    "back_radial *= (distance_back/distance_front)**2\n",
    "back_qr = x_to_q(back_centers, distance_back)\n",
    "\n",
    "# Radial average of signal (front)\n",
    "front_centers, front_radial = spimage.radialMeanImage(signal_front, msk=fmask, cx=cx_front, cy=cy_front, output_r=True)\n",
    "front_qr = x_to_q(front_centers, distance_front)"
   ]
  },
  {
   "cell_type": "code",
   "execution_count": 12,
   "metadata": {
    "collapsed": false
   },
   "outputs": [],
   "source": [
    "# Radial average of buffer background (back)\n",
    "buffer_back_centers, buffer_back_mean_radial = spimage.radialMeanImage(buffer_back_mean, msk=signal_bmask, output_r=True)\n",
    "buffer_back_mean_radial *= (distance_back/distance_front)**2\n",
    "buffer_back_qr = x_to_q(buffer_back_centers, distance_back)\n",
    "\n",
    "# Radial average of buffer background (front)\n",
    "buffer_front_centers, buffer_front_mean_radial = spimage.radialMeanImage(buffer_front_mean, msk=fmask, cx=cx_front,cy=cy_front, output_r=True)\n",
    "buffer_front_qr = x_to_q(buffer_front_centers, distance_front)"
   ]
  },
  {
   "cell_type": "markdown",
   "metadata": {},
   "source": [
    "### 3. Sphere diffraction model"
   ]
  },
  {
   "cell_type": "code",
   "execution_count": 13,
   "metadata": {
    "collapsed": false
   },
   "outputs": [],
   "source": [
    "# Model parameters\n",
    "diameter = signal_diameter * 1e-9\n",
    "intensity = signal_intensity*1e-3*1e12"
   ]
  },
  {
   "cell_type": "code",
   "execution_count": 14,
   "metadata": {
    "collapsed": false
   },
   "outputs": [],
   "source": [
    "s   = spimage.sphere_model_convert_diameter_to_size(diameter, wavelength, pixelsize, distance_front)\n",
    "A   = spimage.sphere_model_convert_intensity_to_scaling(intensity, diameter, wavelength, pixelsize, distance_front, detector_qe=1.0, detector_adu_photon=1.0, material=\"virus\")\n",
    "q   = spimage.x_to_qx(np.arange(0,2000), pixelsize, distance_front)\n",
    "xfit = x_to_q(np.arange(0,2000), distance_front)\n",
    "yfit = spimage.I_sphere_diffraction(A, q, s)"
   ]
  },
  {
   "cell_type": "markdown",
   "metadata": {},
   "source": [
    "### 4. Plotting"
   ]
  },
  {
   "cell_type": "code",
   "execution_count": 15,
   "metadata": {
    "collapsed": false
   },
   "outputs": [],
   "source": [
    "xbg3 = buffer_back_qr\n",
    "#ybg3 = ndimage.median_filter(buffer_back_mean_radial,10)\n",
    "ybg3 = ndimage.gaussian_filter1d(buffer_back_mean_radial,1)\n",
    "\n",
    "xbg4 = buffer_front_qr\n",
    "#ybg4 = ndimage.median_filter(buffer_front_mean_radial,10)\n",
    "ybg4 = ndimage.gaussian_filter1d(buffer_front_mean_radial,2)\n",
    "\n",
    "# Signal\n",
    "ysignal = np.hstack([back_radial, front_radial])\n",
    "xsignal = np.hstack([back_qr, front_qr])\n",
    "sigsorted = np.argsort(xsignal)\n",
    "xsignal = xsignal[sigsorted]\n",
    "ysignal = ysignal[sigsorted]\n",
    "#ysignal = ndimage.median_filter(ysignal,4)\n",
    "ysignal = ndimage.gaussian_filter1d(ysignal,2)"
   ]
  },
  {
   "cell_type": "code",
   "execution_count": 17,
   "metadata": {
    "collapsed": false
   },
   "outputs": [
    {
     "data": {
      "image/png": "[encoded data removed]",
      "text/plain": [
       "<matplotlib.figure.Figure at 0x11c5eb210>"
      ]
     },
     "metadata": {},
     "output_type": "display_data"
    }
   ],
   "source": [
    "plot = plotting.Plot(fontsize=8, rows=4, cols=3, exclude=range(12), aspect=1, colorbar=False, legend=True, legend_frameon=False, save_pdf=True)\n",
    "plot.add_axes((0,1),3,3, hfrac=0.95, padx=-0.02, pady=0.01)\n",
    "plot.add_axes((2,1),1,3, hfrac=0.95, wfrac=0.1, padx=0.7, pady=0.01)\n",
    "plot.add_axes((0,0),3,1)\n",
    "plot.title_label = 3*['']\n",
    "plot.xlabel = 2*[''] + [r'q [nm$^{-1}$]']\n",
    "plot.ylabel = 2*[''] + [r'Intensity [photons / pixel / frame]']\n",
    "plot.colorbar_label = r'Intensity [photons / pixel]'\n",
    "\n",
    "# Plotting assembled diffraction pattern\n",
    "plot.axes[0] = plot.set_axes_layout(plot.axes[0], visible=False)\n",
    "plot.plotting_a_map(0, (signal_data)[c-48:-c+6,c-34:-c+20], \n",
    "                    mask=signal_mask[c-48:-c+6,c-34:-c+20], \n",
    "                    cmap='discrete', vmin=1, vmax=4, log=False, \n",
    "                    discrete_colors=3, under='w', bad='0.9', colorbar=True, cax=plot.axes[1])\n",
    "plot.cb.ax.tick_params(length=0, width=0)\n",
    "plot.cb.set_ticks([1.5,2.5,3.5])\n",
    "plot.cb.set_ticklabels(['1', '2', '$\\mathbf{\\geq}$ 3'])\n",
    "plot.cb.outline.set_visible(False)\n",
    "plot.plotting_a_circle(0, q_to_x(1./5., distance_front), 200,200, \n",
    "                       color='orange', linestyle='dashed', width=1, label='5 nm')\n",
    "plot.plotting_a_circle(0, q_to_x(1./10., distance_front), 200,200, \n",
    "                       color='darkblue', linestyle='dashed', width=1, label='10 nm')\n",
    "plot.axes[0].text(-25, 10, '(a)', va='top', ha='left', fontsize=10)\n",
    "\n",
    "# Legend for resolution rings\n",
    "import matplotlib.lines as mlines\n",
    "orange_line   = mlines.Line2D([], [], color='orange',   marker=None, lw=1, linestyle='dashed', label='5 nm')\n",
    "darkblue_line = mlines.Line2D([], [], color='darkblue', marker=None, lw=1, linestyle='dashed', label='10 nm')\n",
    "lines  = [orange_line, darkblue_line]\n",
    "labels = [line.get_label() for line in lines]\n",
    "plot.axes[0].legend(lines, labels, prop={'size':plot.fontsize-1}, loc=1, numpoints=1, markerscale=2, frameon=True)\n",
    "\n",
    "# Plotting radial averages\n",
    "plot.plotting_traces(2,                                                                                                                                                            \n",
    "                     [xfit, xbg3, xbg4, xsignal],                                                               \n",
    "                     [yfit, ybg3, ybg4, ysignal],                                          \n",
    "                     [r'Sphere diffraction model', None, 'Average buffer background', 'Signal from single-particle diffraction'],                                 \n",
    "                     linestyles=['-', '-', '-', '-'],                                                                                                           \n",
    "                     linewidths=[1,0,1,1], xlim=[0,x_to_q(1746/2., distance_front)], ylim=[1e-5,300],                                                                                                    \n",
    "                     markersize=2, markers=['None', 'None', 'None', 'None',],                                                                                                 \n",
    "                     mecs=['b', 'g', 'g', 'r'], mfcs=['b', 'g', 'g', 'r'],                                                                            \n",
    "                     colors=['b', 'g', 'g', 'r'], alphas=[1,1,1,1,1],                                                                                                  \n",
    "                     logx=False, logy=True)\n",
    "\n",
    "plot.axes[2].axvline(x_to_q(200., distance_front), color='k', ls='-')\n",
    "plot.axes[2].text(0.03, 150, '(b)', va='top', ha='left', fontsize=10)\n",
    "\n",
    "# Save plot\n",
    "#plot.save('/Users/benedikt/phd-project/documentation/manuscripts/omrv-paper/manuscript/figures/fig_signal_vs_noise.pdf')\n",
    "plot.show()"
   ]
  },
  {
   "cell_type": "markdown",
   "metadata": {},
   "source": [
    "**Figure 10.**\n",
    "Comparison of signal from a strong single-shot diffraction pattern and average buffer background.                                                                         \n",
    "(a) Assembled diffraction pattern from a single shot with estimated particles size of $43.2$~nm and incident photon intensity of $8.65\\cdot 10^{11}$ photons / $\\mu$m$^2$.         \n",
    "Masked areas (no photons detected, bad pixels, strong X-ray background) are colored in gray.                                                                                       \n",
    "Dashed rings indicate areas with full-period resolution of $5$ and $10$ nm.                                                                                                        \n",
    "(b) Radial averages of the single-shot diffraction (red), the average buffer background (green) and the sphere diffraction model (blue).                                           \n",
    "A gaussian filter with a kernel sigma of 1 pixel is applied to both traces from experimental data (red and green).                                                                 \n",
    "The black solid line marks the edge of the cropped diffraction pattern shown in (a)."
   ]
  },
  {
   "cell_type": "code",
   "execution_count": null,
   "metadata": {
    "collapsed": true
   },
   "outputs": [],
   "source": []
  }
 ],
 "metadata": {
  "kernelspec": {
   "display_name": "Python 2",
   "language": "python",
   "name": "python2"
  },
  "language_info": {
   "codemirror_mode": {
    "name": "ipython",
    "version": 2
   },
   "file_extension": ".py",
   "mimetype": "text/x-python",
   "name": "python",
   "nbconvert_exporter": "python",
   "pygments_lexer": "ipython2",
   "version": "2.7.10"
  }
 },
 "nbformat": 4,
 "nbformat_minor": 0
}
