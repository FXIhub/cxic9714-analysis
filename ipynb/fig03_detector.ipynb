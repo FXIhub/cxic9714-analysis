{
 "cells": [
  {
   "cell_type": "markdown",
   "metadata": {},
   "source": [
    "## Detector charachterization (Figure 3)"
   ]
  },
  {
   "cell_type": "code",
   "execution_count": 1,
   "metadata": {
    "collapsed": true
   },
   "outputs": [],
   "source": [
    "# Import modules\n",
    "import sys, h5py\n",
    "import numpy as np\n",
    "%matplotlib inline\n",
    "\n",
    "# Ignore division warnings\n",
    "s = np.seterr(divide='ignore', invalid='ignore')\n",
    "\n",
    "# Import modules from src directory\n",
    "sys.path.append(\"../src\")\n",
    "import plotting"
   ]
  },
  {
   "cell_type": "code",
   "execution_count": 2,
   "metadata": {
    "collapsed": true
   },
   "outputs": [],
   "source": [
    "# Gaussian model\n",
    "gaussian = lambda x,A,mu,s: A * np.exp(-((mu-x)**2 /(2*s**2)))"
   ]
  },
  {
   "cell_type": "code",
   "execution_count": 3,
   "metadata": {
    "collapsed": true
   },
   "outputs": [],
   "source": [
    "# Pixel coordinates\n",
    "bp = (8,238)\n",
    "fp = (0,111)"
   ]
  },
  {
   "cell_type": "code",
   "execution_count": 4,
   "metadata": {
    "collapsed": false
   },
   "outputs": [],
   "source": [
    "# IO settings\n",
    "plotdir = '/Users/benedikt/phd-project/documentation/manuscripts/omrv-paper/manuscript/figures/'"
   ]
  },
  {
   "cell_type": "markdown",
   "metadata": {},
   "source": [
    "### 1. Loading data from file"
   ]
  },
  {
   "cell_type": "code",
   "execution_count": 5,
   "metadata": {
    "collapsed": true
   },
   "outputs": [],
   "source": [
    "# Data files (back)\n",
    "back_signal_histfile    = '../meta/back/merged_histogram.h5'\n",
    "back_signal_gainfile    = '../meta/back/gain/gainmap.h5'\n",
    "back_signal_bgsigmafile = '../meta/back/gain/bg_sigmamap.h5'\n",
    "back_signal_fittingfile = '../meta/back/gain/fitting_results.h5'\n",
    "back_signal_maskfile    = '../meta/back/gain/included-pixels.h5'\n",
    "back_geometryfile       = '../meta/back/back_geometry.h5'\n",
    "\n",
    "# Data files (front)\n",
    "front_signal_histfile    = '../meta/front/merged_histogram.h5'\n",
    "front_signal_gainfile    = '../meta/front/gain/gainmap.h5'\n",
    "front_signal_bgsigmafile = '../meta/front/gain/bg_sigmamap.h5'\n",
    "front_signal_fittingfile = '../meta/front/gain/fitting_results.h5'\n",
    "front_signal_maskfile    = '../meta/front/gain/included-pixels.h5'\n",
    "front_geometryfile       = '../meta/front/front_geometry.h5'\n",
    "front_bad_pixels_file    = '../meta/front/masks/front_bad-pixels.h5'"
   ]
  },
  {
   "cell_type": "code",
   "execution_count": 6,
   "metadata": {
    "collapsed": false
   },
   "outputs": [],
   "source": [
    "# Load histogram (back)\n",
    "with h5py.File(back_signal_histfile, 'r') as f:\n",
    "    back_ncount = float(f['data/histogramCount'][0])\n",
    "    back_hist = f['data/histogram'][bp[0], bp[1]] / back_ncount\n",
    "    hmin  = f['data/histogramMin'][:]\n",
    "    hbins = f['data/histogramNbins'][:]\n",
    "    hsize = f['data/histogramBinsize'][:]\n",
    "    back_histbins = np.arange(hmin, hbins*hsize + hmin, hsize)\n",
    "\n",
    "# Load gain map (back)\n",
    "with h5py.File(back_signal_gainfile, 'r') as f:\n",
    "    back_gainmap = f['data/data'][:]\n",
    "\n",
    "# Load bg sigma map (back)\n",
    "with h5py.File(back_signal_bgsigmafile, 'r') as f:\n",
    "    back_bgsigma = f['data/data'][:]\n",
    "\n",
    "# Load fitting results (back)\n",
    "with h5py.File(back_signal_fittingfile, 'r') as f:\n",
    "    back_photon_amp   = f['photon_amp'][:].reshape(back_gainmap.shape) / back_ncount\n",
    "    back_photon_mu    = f['photon_offset'][:].reshape(back_gainmap.shape)\n",
    "    back_photon_sigma = f['photon_sigma'][:].reshape(back_gainmap.shape)\n",
    "    back_bg_amp   = f['bg_amp'][:].reshape(back_gainmap.shape) / back_ncount\n",
    "    back_bg_mu    = f['bg_offset'][:].reshape(back_gainmap.shape)\n",
    "    back_bg_sigma = f['bg_sigma'][:].reshape(back_gainmap.shape)\n",
    "\n",
    "# Load mask from gain fitting (back)\n",
    "with h5py.File(back_signal_maskfile, 'r') as f:\n",
    "    back_gainmask = f['data/data'][:].astype(np.bool)\n",
    "\n",
    "# Load geometry (back)\n",
    "with h5py.File(back_geometryfile, 'r') as f:\n",
    "    x = np.floor(f['x']).astype(np.int)\n",
    "    y = np.floor(f['y']).astype(np.int)\n",
    "    x -= x.min()\n",
    "    y -= y.min()\n",
    "    back_shape = (y.max() - y.min() + 1, x.max() - x.min() + 1)\n",
    "    back_x, back_y = x,y"
   ]
  },
  {
   "cell_type": "code",
   "execution_count": 7,
   "metadata": {
    "collapsed": false
   },
   "outputs": [],
   "source": [
    "# Load histogram (front)\n",
    "with h5py.File(front_signal_histfile, 'r') as f:\n",
    "    front_ncount = float(f['data/histogramCount'][0])\n",
    "    front_hist = f['data/histogram'][fp[0], fp[1]] / front_ncount\n",
    "    hmin  = f['data/histogramMin'][:]\n",
    "    hbins = f['data/histogramNbins'][:]\n",
    "    hsize = f['data/histogramBinsize'][:]\n",
    "    front_histbins = np.arange(hmin, hbins*hsize + hmin, hsize)\n",
    "\n",
    "# Load gain map (front)\n",
    "with h5py.File(front_signal_gainfile, 'r') as f:\n",
    "    front_gainmap = f['data/data'][:]\n",
    "\n",
    "# Load bg sigma map (front)\n",
    "with h5py.File(front_signal_bgsigmafile, 'r') as f:\n",
    "    front_bgsigma = f['data/data'][:]\n",
    "\n",
    "# Load fitting results (front)\n",
    "with h5py.File(front_signal_fittingfile, 'r') as f:\n",
    "    front_photon_amp   = f['photon_amp'][:].reshape(front_gainmap.shape) / front_ncount\n",
    "    front_photon_mu    = f['photon_offset'][:].reshape(front_gainmap.shape)\n",
    "    front_photon_sigma = f['photon_sigma'][:].reshape(front_gainmap.shape)\n",
    "    front_bg_amp   = f['bg_amp'][:].reshape(front_gainmap.shape) / front_ncount\n",
    "    front_bg_mu    = f['bg_offset'][:].reshape(front_gainmap.shape)\n",
    "    front_bg_sigma = f['bg_sigma'][:].reshape(front_gainmap.shape)\n",
    "\n",
    "# Load mask from gain fitting (front)\n",
    "with h5py.File(front_signal_maskfile, 'r') as f:\n",
    "    front_gainmask = f['data/data'][:].astype(np.bool)\n",
    "    \n",
    "# Load bad-pixel mask (front)\n",
    "with h5py.File(front_bad_pixels_file, 'r') as f:\n",
    "    front_badpixels = f['data/data'][:].astype(np.bool)\n",
    "front_gainmask &= front_badpixels   \n",
    "\n",
    "# Load geometry (front)\n",
    "with h5py.File(front_geometryfile, 'r') as f:\n",
    "    x = np.floor(f['x'][:]/(110*1e-6)).astype(np.int)\n",
    "    y = np.floor(f['y'][:]/(110*1e-6)).astype(np.int)\n",
    "    x -= x.min()\n",
    "    y -= y.min()\n",
    "    front_shape = (y.max() - y.min() + 1, x.max() - x.min() + 1)\n",
    "    front_x, front_y = x,y"
   ]
  },
  {
   "cell_type": "markdown",
   "metadata": {},
   "source": [
    "### 2. Assemble maps and masks"
   ]
  },
  {
   "cell_type": "code",
   "execution_count": 8,
   "metadata": {
    "collapsed": true
   },
   "outputs": [],
   "source": [
    "def assemble(raw, shape, x, y):\n",
    "    assembled = np.zeros(shape).astype(raw.dtype)\n",
    "    assembled[y,x] = raw\n",
    "    return assembled\n",
    "c = 700"
   ]
  },
  {
   "cell_type": "code",
   "execution_count": 9,
   "metadata": {
    "collapsed": false
   },
   "outputs": [],
   "source": [
    "back_gainmap_a = assemble(back_gainmap, back_shape, back_x, back_y)\n",
    "back_bgsigma_a = assemble(back_bgsigma, back_shape, back_x, back_y)\n",
    "back_photon_amp_a = assemble(back_photon_amp, back_shape, back_x, back_y)\n",
    "back_bg_amp_a = assemble(back_bg_amp, back_shape, back_x, back_y)\n",
    "back_mask_a = assemble(back_gainmask, back_shape, back_x, back_y)\n",
    "front_gainmap_a = np.rot90(assemble(front_gainmap, front_shape, front_x, front_y)[c:-c,c:-c], k=2)\n",
    "front_bgsigma_a = np.rot90(assemble(front_bgsigma, front_shape, front_x, front_y)[c:-c,c:-c], k=2)\n",
    "front_photon_amp_a = np.rot90(assemble(front_photon_amp, front_shape, front_x, front_y)[c:-c,c:-c], k=2)\n",
    "front_bg_amp_a = np.rot90(assemble(front_bg_amp, front_shape, front_x, front_y)[c:-c,c:-c], k=2)\n",
    "front_mask_a = np.rot90(assemble(front_gainmask, front_shape, front_x, front_y)[c:-c,c:-c], k=2)\n",
    "front_badpix_a = np.rot90(assemble(front_badpixels, front_shape, front_x, front_y)[c:-c,c:-c], k=2)"
   ]
  },
  {
   "cell_type": "markdown",
   "metadata": {},
   "source": [
    "### 3. Fit Gaussians"
   ]
  },
  {
   "cell_type": "code",
   "execution_count": 10,
   "metadata": {
    "collapsed": false
   },
   "outputs": [],
   "source": [
    "# Compute gaussians (back)\n",
    "back_gauss_0 = gaussian(back_histbins, back_bg_amp[bp[0],bp[1]], back_bg_mu[bp[0], bp[1]], back_bg_sigma[bp[0],bp[1]])\n",
    "back_gauss_1 = gaussian(back_histbins, back_photon_amp[bp[0], bp[1]], back_photon_mu[bp[0],bp[1]], back_photon_sigma[bp[0],bp[1]])"
   ]
  },
  {
   "cell_type": "code",
   "execution_count": 11,
   "metadata": {
    "collapsed": true
   },
   "outputs": [],
   "source": [
    "# Compute gaussians (front)\n",
    "front_gauss_0 = gaussian(front_histbins, front_bg_amp[fp[0],fp[1]], front_bg_mu[fp[0], fp[1]], front_bg_sigma[fp[0],fp[1]])\n",
    "front_gauss_1 = gaussian(front_histbins, front_photon_amp[fp[0], fp[1]], front_photon_mu[fp[0],fp[1]], front_photon_sigma[fp[0],fp[1]])"
   ]
  },
  {
   "cell_type": "markdown",
   "metadata": {},
   "source": [
    "### 4. Define Signal-to-noise ratio"
   ]
  },
  {
   "cell_type": "code",
   "execution_count": 12,
   "metadata": {
    "collapsed": false
   },
   "outputs": [],
   "source": [
    "# Select good pixels\n",
    "backselect = (back_gainmap[back_gainmask] > 18) & (back_gainmap[back_gainmask] < 33) & (back_bgsigma[back_gainmask] > 3.2) & (back_bgsigma[back_gainmask] < 5.2)\n",
    "frontselect = (front_gainmap_a[front_mask_a] > 9) & (front_gainmap_a[front_mask_a] < 24) & (front_bgsigma_a[front_mask_a] > 2) & (front_bgsigma_a[front_mask_a] < 4)\n",
    "\n",
    "# Map of Signal to noise\n",
    "back_smap = back_gainmap[back_gainmask][backselect] / back_bgsigma[back_gainmask][backselect]\n",
    "front_smap = front_gainmap_a[front_mask_a][frontselect] / front_bgsigma_a[front_mask_a][frontselect]\n",
    "\n",
    "# Map of signal above noise (smap) for back\n",
    "back_smap_a = back_gainmap_a / back_bgsigma_a\n",
    "back_smap_hist, back_smap_bins = np.histogram(back_smap, range=(0,10), bins=200, density=True)\n",
    "\n",
    "# Map of signal above noise (smap) for front\n",
    "front_smap_a = (front_gainmap_a / front_bgsigma_a)\n",
    "front_smap_hist, front_smap_bins = np.histogram(front_smap, range=(0,10), bins=200, density=True)"
   ]
  },
  {
   "cell_type": "markdown",
   "metadata": {},
   "source": [
    "### 5. Plotting"
   ]
  },
  {
   "cell_type": "code",
   "execution_count": 13,
   "metadata": {
    "collapsed": false
   },
   "outputs": [
    {
     "data": {
      "image/png": "[encoded data removed]",
      "text/plain": [
       "<matplotlib.figure.Figure at 0x116f5dc90>"
      ]
     },
     "metadata": {},
     "output_type": "display_data"
    }
   ],
   "source": [
    "# Second idea for a plot\n",
    "plot = plotting.Plot(rows=3, cols=4, exclude=range(16), border_in=.2,\n",
    "                     fontsize=8, legend=True, legend_frameon=False, save_pdf=True)\n",
    "plot.add_axes((0,2), 2,1, pady=0.09, hfrac=0.9)\n",
    "plot.add_axes((2,2), 2,1, pady=0.09, hfrac=0.9)\n",
    "plot.add_axes((0,1), 4,1, hfrac=0.9)\n",
    "#plot.add_axes((2,1), 2,1, hfrac=0.9)\n",
    "plot.add_axes((0,0), 4,1, pady=-0.075, hfrac=0.9)\n",
    "\n",
    "plot.xlabel = ['Detected signal [ADU]', \n",
    "               'Detected signal [ADU]', \n",
    "               'Noise parameter $\\sigma^{0}$', \n",
    "               #'Noise parameter $\\sigma^{0}$',  \n",
    "               r'Signal to noise ratio (SNR) $\\mu^{1} - \\mu^{0}$ / $\\sigma^{0}$']\n",
    "plot.ylabel = ['',#['Probability density', \n",
    "               '', \n",
    "               r'Gain $\\mu^{1} - \\mu^{0}$', \n",
    "               #'Gain $\\mu^{1} - \\mu^{0}$', \n",
    "               '']#'Probability density']\n",
    "plot.title_label = ['   2.3M CSPAD (front)','140k CSPAD (back)', '', '', '']\n",
    "plot.colorbar_label = r''\n",
    "\n",
    "# Front detector\n",
    "plot.plotting_a_histogram(0, front_hist[1:], front_histbins+0.5, type='bar', \n",
    "                          color=['0.75'], edgewidth=0, label=['Pixel histogram'])\n",
    "plot.plotting_traces(0, 3*[front_histbins], [front_hist, front_gauss_0, front_gauss_1], \n",
    "                     ['', 'Gaussian fit (0-photon)', 'Gaussian fit (1-photon)'],\n",
    "                     colors=['0.5', 'k', 'r'], linewidths=[0,1,1], logy=True, ylim=[1e-6,1])\n",
    "plot.axes[0].axvline((front_photon_mu[fp[0], fp[1]] - front_bg_mu[fp[0], fp[1]])*0.7, ymax=0.5, color='k', ls=':')\n",
    "plot.axes[0].set_yticklabels([])\n",
    "plot.axes[0].set_xticks(range(-20,100,20))\n",
    "plot.axes[0].text(-20,1, '(a)', fontsize=10, va='bottom', ha='center')\n",
    "plot.axes[0].spines['top'].set_visible(False)\n",
    "plot.axes[0].xaxis.set_ticks_position('bottom')\n",
    "plot.axes[0].spines['left'].set_visible(False)\n",
    "plot.axes[0].spines['right'].set_visible(False)\n",
    "plot.axes[0].yaxis.set_ticks_position('none')\n",
    "plot.axes[0].title.set_color('darkblue')\n",
    "\n",
    "# Back detector\n",
    "plot.plotting_a_histogram(1, back_hist[1:], back_histbins+0.5, type='bar', \n",
    "                          color=['0.75'], edgewidth=0, label=[''])\n",
    "plot.plotting_traces(1, 3*[back_histbins],  [back_hist, back_gauss_0, back_gauss_1], \n",
    "                     3*[''],#['Pixel histogram', 'Gaussian fit (0-photon)', 'Gaussian fit (1-photon)'],\n",
    "                     colors=['0.5', 'k', 'r'], linewidths=[0,1,1], logy=True, ylim=[1e-6,1])\n",
    "plot.axes[1].axvline((back_photon_mu[bp[0], bp[1]] - back_bg_mu[bp[0], bp[1]])*0.7, ymax=0.5, color='k', ls=':')\n",
    "plot.axes[1].text((back_photon_mu[bp[0], bp[1]] - back_bg_mu[bp[0], bp[1]])*0.7, 0.001, '0.7 photons', \n",
    "                  va='bottom', ha='left', fontsize=8)\n",
    "plot.axes[1].set_xticks(range(-20,100,20))\n",
    "plot.axes[1].text(0, 1e-5, r'$\\mu^{0}$, $\\sigma^{0}$', color='k', ha='center')\n",
    "plot.axes[1].text(55,1e-5, r'$\\mu^{1}$, $\\sigma^{1}$', color='r', ha='center')\n",
    "plot.axes[1].text(-20,1, '(b)', fontsize=10, va='bottom', ha='center')\n",
    "plot.axes[1].spines['top'].set_visible(False)\n",
    "plot.axes[1].xaxis.set_ticks_position('bottom')\n",
    "plot.axes[1].spines['right'].set_visible(False)\n",
    "plot.axes[1].spines['left'].set_visible(False)\n",
    "plot.axes[1].yaxis.set_ticks_position('none')\n",
    "plot.axes[1].set_yticklabels([])\n",
    "plot.axes[1].title.set_color('darkgreen')\n",
    "\n",
    "\n",
    "# Plot correlation\n",
    "plot.legend_location = 4\n",
    "plot.plotting_a_heatmap(2, back_bgsigma[back_gainmask], back_gainmap[back_gainmask], [[3.2,5.2],[18,33]], \n",
    "                        under='w', bins=100,alpha=1, cmaplist=['Greens'], zorder=0)\n",
    "plot.plotting_traces(2, [np.linspace(3.8,5.2,100)], [6.*np.linspace(3.8,5.2,100)], [''], \n",
    "                     linestyles=[':'], colors=['k'], zorder=1)\n",
    "plot.plotting_correlation(2, back_bgsigma[bp[0], bp[1]], back_gainmap[bp[0], bp[1]], color='r', \n",
    "                          ylim=[10,33], xlim=[2.2,5.5], zorder=2, marker='x', markersize=20)\n",
    "plot.axes[2].text(2.2,35, '(c)', fontsize=10, va='bottom', ha='center')\n",
    "plot.axes[2].spines['top'].set_visible(False)\n",
    "plot.axes[2].xaxis.set_ticks_position('bottom')\n",
    "plot.axes[2].spines['right'].set_visible(False)\n",
    "plot.axes[2].yaxis.set_ticks_position('left')\n",
    "plot.axes[2].text(2.3, 15, 'SNR=5.5', fontsize=8, rotation=5)\n",
    "plot.axes[2].set_yticks([10,15,20,25,30])\n",
    "plot.axes[2].set_xticks([2.5,3,3.5,4,4.5,5])\n",
    "plot.axes[2].text(3,20, '(front)', fontsize=8)\n",
    "plot.axes[2].text(4.2,30, '(back)', fontsize=8)\n",
    "\n",
    "plot.plotting_a_heatmap(2, front_bgsigma_a[front_mask_a], front_gainmap_a[front_mask_a], [[2,4],[9,24]], \n",
    "                        under='w', bins=100,alpha=1, cmaplist=['Blues'], zorder=0)\n",
    "plot.plotting_traces(2, [np.linspace(2,3.8,100)], [5.5*np.linspace(2,3.8,100)], [''], \n",
    "                     linestyles=[':'], colors=['k'], zorder=1)\n",
    "plot.axes[2].text(4.8, 32, 'SNR=6', fontsize=8, rotation=6)\n",
    "\n",
    "plot.plotting_correlation(2, front_bgsigma[fp[0], fp[1]], front_gainmap[fp[0], fp[1]], color='r', \n",
    "                          ylim=[10,33], xlim=[2.2,5.2], zorder=2, marker='x', markersize=20)\n",
    "\n",
    "# Combined\n",
    "plot.legend_location = 3\n",
    "plot.plotting_a_histogram(3, back_smap_hist, back_smap_bins, type='line', color=['darkgreen'], linestyle='--', \n",
    "                          edgewidth=1, logy=False, ylim=[0,2.5], label=['140k CSPAD (back)'])\n",
    "plot.plotting_a_histogram(3, front_smap_hist, front_smap_bins, type='line', color=['darkblue'], linestyle=':', \n",
    "                          edgewidth=1, logy=False, ylim=[0,2.5], label=['2.3M CSPAD (front)'])\n",
    "plot.axes[3].text(2,1.5, '(d)', fontsize=10, va='top', ha='center')\n",
    "plot.axes[3].spines['top'].set_visible(False)\n",
    "plot.axes[3].spines['left'].set_visible(False)\n",
    "plot.axes[3].spines['right'].set_visible(False)\n",
    "plot.axes[3].yaxis.set_ticks_position('none')\n",
    "plot.axes[3].set_yticklabels([])\n",
    "plot.axes[3].set_xlim([2,8])\n",
    "\n",
    "# Save plot to file                                                                                                                                                               \n",
    "#plot.save(plotdir + 'fig_detectorchar.pdf')\n",
    "plot.show()"
   ]
  },
  {
   "cell_type": "markdown",
   "metadata": {},
   "source": [
    "**Figure 3.**\n",
    "Pixel-wise characterization of the CSPAD detectors.                                                                                                                       \n",
    "(a)-(b) Normalized histograms (log scale) for two representative pixels integrated across all detected frames with Gaussian functions                                              \n",
    "fitted to the 0- and 1-photon peaks. The black dotted lines correspond to the $0.7$ photon threshold used for counting.                                                            \n",
    "(c) 2D histograms of noise and gain estimates placed on grids of $100\\times100$ pixels. The red crosses correspond                                                                 \n",
    "to the values of $\\mu^{0}$, $\\mu^{1}$ and $\\sigma^{0}$ shown in the pixel histograms above.                                                                                        \n",
    "(d) Signal-to-noise ratio for all pixels shown as normalized histograms (linear scale)."
   ]
  }
 ],
 "metadata": {
  "kernelspec": {
   "display_name": "Python 2",
   "language": "python",
   "name": "python2"
  },
  "language_info": {
   "codemirror_mode": {
    "name": "ipython",
    "version": 2
   },
   "file_extension": ".py",
   "mimetype": "text/x-python",
   "name": "python",
   "nbconvert_exporter": "python",
   "pygments_lexer": "ipython2",
   "version": "2.7.10"
  }
 },
 "nbformat": 4,
 "nbformat_minor": 0
}
