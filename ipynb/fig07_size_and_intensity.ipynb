{
 "cells": [
  {
   "cell_type": "markdown",
   "metadata": {},
   "source": [
    "## Size vs. Intensity (Figure 7)"
   ]
  },
  {
   "cell_type": "markdown",
   "metadata": {},
   "source": [
    "We are studying the size and intensity estimates."
   ]
  },
  {
   "cell_type": "code",
   "execution_count": 103,
   "metadata": {
    "collapsed": true
   },
   "outputs": [],
   "source": [
    "# Import modules\n",
    "import sys, h5py\n",
    "import numpy as np\n",
    "%matplotlib inline\n",
    "\n",
    "# Import modules from src directory\n",
    "sys.path.append(\"../src\")\n",
    "import plotting"
   ]
  },
  {
   "cell_type": "code",
   "execution_count": 104,
   "metadata": {
    "collapsed": true
   },
   "outputs": [],
   "source": [
    "# Configuration\n",
    "simulation_shape = (20, 80*300)\n",
    "simulation_grid_shape = (80,300)\n",
    "simulation_x = np.arange(0,300)\n",
    "simulation_y = np.logspace(15,19,80) * (1000 * 50e-15) / 1e8\n",
    "simulation_X, simulation_Y = np.meshgrid(simulation_x, simulation_y)\n",
    "wavelength  = 0.22621e-9 #[m]\n",
    "pulse_length = 50e-15 #[s]"
   ]
  },
  {
   "cell_type": "markdown",
   "metadata": {},
   "source": [
    "### 1. Loading data from file"
   ]
  },
  {
   "cell_type": "code",
   "execution_count": 105,
   "metadata": {
    "collapsed": true
   },
   "outputs": [],
   "source": [
    "results_filename = '../analysis/results/results.h5'\n",
    "with h5py.File(results_filename, 'r') as f:\n",
    "    diameter  = f['diameter'][:]\n",
    "    intensity = f['intensity'][:]\n",
    "    centerx   = f['centerx'][:]\n",
    "    centery   = f['centery'][:]\n",
    "    hitscore  = f['npeaks'][:]\n",
    "    time      = f['time_s'][:]\n",
    "    injectorx = f['injector_posx'][:]\n",
    "    injectorz = f['injector_posz'][:]"
   ]
  },
  {
   "cell_type": "code",
   "execution_count": 90,
   "metadata": {
    "collapsed": false
   },
   "outputs": [],
   "source": [
    "simulation_filename = '../analysis/validation/simulation.h5'\n",
    "with h5py.File(simulation_filename, 'r') as f:\n",
    "    simulation_hitscore = f['results']['npeaks'][:].reshape(simulation_shape)\n",
    "simulation_hitscore = simulation_hitscore.mean(axis=0).reshape(simulation_grid_shape)"
   ]
  },
  {
   "cell_type": "markdown",
   "metadata": {},
   "source": [
    "### 2. Units and detection limits"
   ]
  },
  {
   "cell_type": "code",
   "execution_count": 91,
   "metadata": {
    "collapsed": false
   },
   "outputs": [],
   "source": [
    "# Fit detection limit using polynomials\n",
    "detection_limit_y1 = simulation_Y[:,:48][(simulation_hitscore[:,:48] > 600-20) & (simulation_hitscore[:,:48] < 600+20)]\n",
    "detection_limit_x1 = simulation_X[:,:48][(simulation_hitscore[:,:48] > 600-20) & (simulation_hitscore[:,:48] < 600+20)]\n",
    "detection_limit_p1 = np.poly1d(np.polyfit(detection_limit_x1, detection_limit_y1, 8))\n",
    "detection_limit_y2 = simulation_Y[:,45:80][(simulation_hitscore[:,45:80] > 600-20) & (simulation_hitscore[:,45:80] < 600+20)]\n",
    "detection_limit_x2 = simulation_X[:,45:80][(simulation_hitscore[:,45:80] > 600-20) & (simulation_hitscore[:,45:80] < 600+20)]\n",
    "detection_limit_p2 = np.poly1d(np.polyfit(detection_limit_x2, detection_limit_y2, 3))\n",
    "detection_limit_y3 = simulation_Y[:,75:][(simulation_hitscore[:,75:] > 600-20) & (simulation_hitscore[:,75:] < 600+20)]\n",
    "detection_limit_x3 = simulation_X[:,75:][(simulation_hitscore[:,75:] > 600-20) & (simulation_hitscore[:,75:] < 600+20)]\n",
    "detection_limit_p3 = np.poly1d(np.polyfit(detection_limit_x3, detection_limit_y3, 6))\n",
    "detection_limit = detection_limit_p1(simulation_x) * (simulation_x <= 43) + detection_limit_p2(simulation_x) * ((simulation_x > 43) & (simulation_x <= 79)) + detection_limit_p3(simulation_x) * (simulation_x > 79)\n",
    "\n",
    "# Correct for detector efficiency\n",
    "intensity *= (1./0.955)\n",
    "\n",
    "# Intensity in Nr. of photons\n",
    "h = 6.62606957e-34 #Js\n",
    "c = 299792458 #m/s\n",
    "hc = h*c  #Jm\n",
    "intensity_NrPhum2 = ((intensity / 1000.) * wavelength) / (hc)\n",
    "intensity_NrPh    = intensity_NrPhum2 * np.pi * (1e-3*diameter/2.)**2\n",
    "intensity = intensity_NrPhum2\n",
    "simulation_y = ((simulation_y / 1000.) * wavelength) / (hc) \n",
    "simulation_Y = ((simulation_Y / 1000.) * wavelength) / (hc) "
   ]
  },
  {
   "cell_type": "markdown",
   "metadata": {},
   "source": [
    "### 3. Heatmap and histograms"
   ]
  },
  {
   "cell_type": "code",
   "execution_count": 95,
   "metadata": {
    "collapsed": false
   },
   "outputs": [],
   "source": [
    "# Heatmap\n",
    "bins_diameter  = np.hstack([simulation_x[::2], simulation_x[-1]+1])\n",
    "bins_intensity = np.logspace(9,13,150)\n",
    "bin_array = [bins_diameter, bins_intensity]\n",
    "\n",
    "# Histogram of diameter\n",
    "weights = ((5. - detection_limit[30]) /  (5. - detection_limit)) * (simulation_x > 30)\n",
    "diameter_good = diameter[(diameter>30) & (intensity>simulation_y[20])]\n",
    "hist_diameter, edges_diameter = np.histogram(diameter_good, range=(0,300), bins=100, density=False)\n",
    "\n",
    "# Histogram of diameter (blue)\n",
    "diameter_good_blue = diameter[(intensity>6e10)]# & (intensity<2e-1)]\n",
    "hist_diameter_blue, edges_diameter_blue = np.histogram(diameter_good_blue, range=(0,300), bins=150, density=False)\n",
    "\n",
    "# Histogram of intensity/diameter (gren)\n",
    "diameter_good_green = diameter[(diameter > 0) & (diameter < 60) & (intensity>6e-2)]\n",
    "intensity_good_green = intensity[(diameter > 0) & (diameter < 60) & (intensity>6e-2)]\n",
    "hist_diameter_green, edges_diameter_green = np.histogram(diameter_good_green, range=(0,60), bins=30, density=False)\n",
    "hist_intensity_green, edges_intensity_green = np.histogram(intensity_good_green, bins=bins_intensity[::2])"
   ]
  },
  {
   "cell_type": "markdown",
   "metadata": {},
   "source": [
    "### 4. Plotting"
   ]
  },
  {
   "cell_type": "code",
   "execution_count": 102,
   "metadata": {
    "collapsed": false
   },
   "outputs": [],
   "source": [
    "plot = plotting.Plot(fontsize=8, cols=3, rows=2, exclude=[0,1,3,4], border_in=0.15, colorbar=False, legend=False, \n",
    "                     legend_location=1, save_pdf=True)\n",
    "plot.add_axes((0,0), 2,2, hfrac=0.93)\n",
    "plot.add_axes((0,0), 2,1, pady=0.762, hfrac=0.1)\n",
    "plot.title_label = 4*['']\n",
    "plot.xlabel = [r'Particle diameter [nm]'] + [r'Particle diameter [nm]'] + [r'Particle diameter [nm]'] + ['']\n",
    "plot.ylabel = 2*[''] + [r'Photon intensity [photons$/\\mu$m$^2$]'] + ['']\n",
    "plot.colorbar_label = r'Counts'\n",
    "\n",
    "plot.plotting_a_heatmap(2, diameter, intensity, [(0,300),(1e9, simulation_y.max())], bins=bin_array, \n",
    "                        cmaplist=['autumn'], under='w', vmin=1, cax=plot.axes[3], \n",
    "                        colorbar_orientation='horizontal', colorbar=True)\n",
    "plot.plotting_a_contour(2, simulation_X, simulation_Y, simulation_hitscore,\n",
    "                        (600,), colors='k', linewidths=1.5, label=False)\n",
    "plot.axes[2].axvline(35, color='k', linestyle='--', linewidth=1.5)\n",
    "plot.axes[2].axhline(simulation_y[20], color='k', linestyle='--', linewidth=1.5)\n",
    "plot.plotting_a_rectangle(2, 35, 6e10, 264, 2.2e12, edgecolor='b', facecolor='none', alpha=1, linewidth=2)\n",
    "\n",
    "plot.axes[2].semilogy()\n",
    "plot.axes[2].set_ylim([1e9,4e12])\n",
    "plot.axes[2].text(-30,4e12,'(a)', va='top', ha='left', fontsize=10)\n",
    "\n",
    "plot.axes[3].set_ylabel('')\n",
    "plot.axes[3].set_xlabel(r'Counts', fontsize=8)\n",
    "plot.axes[3].xaxis.set_label_position('top')\n",
    "plot.axes[3].tick_params(axis='x', which='both', top='on', bottom='off', labeltop='on', labelbottom='off')\n",
    "\n",
    "plot.plotting_a_histogram(0,hist_diameter_blue, edges_diameter_blue, xlim=(0,300), type='bar',\n",
    "                          edgewidth=0, color=['b'], label=['Histogram'], logx=False, logy=False)\n",
    "plot.plotting_a_rectangle(0, 10, 0.1, 60, 115, edgecolor='g', facecolor='none', linewidth=2)\n",
    "plot.axes[0].tick_params(axis='y', which='both', left='off', right='on', labelleft='off', labelright='on')\n",
    "plot.axes[0].tick_params(axis='x', which='both', top='on', bottom='off', labeltop='on', labelbottom='off')\n",
    "plot.axes[0].xaxis.set_label_position('top')\n",
    "plot.axes[0].text(250,115,'(b)', va='top', ha='left', fontsize=10)\n",
    "\n",
    "plot.plotting_a_histogram(1,hist_diameter_green, edges_diameter_green, xlim=(10,60), ylim=[0,120], type='bar',\n",
    "                          edgewidth=0.5, color=['g'], label=['Histogram'], logx=False, logy=False)\n",
    "plot.axes[1].tick_params(axis='y', which='both', left='off', right='on', labelleft='off', labelright='on')\n",
    "plot.axes[1].tick_params(axis='x', which='both', top='off', bottom='on', labeltop='off', labelbottom='on')\n",
    "plot.axes[1].text(11,115,'(c)', va='top', ha='left', fontsize=10)\n",
    "\n",
    "plot.save('/Users/benedikt/phd-project/documentation/manuscripts/omrv-paper/manuscript/figures/fig_size_vs_intensity_heatmap.pdf')\n",
    "plot.show()"
   ]
  },
  {
   "cell_type": "code",
   "execution_count": null,
   "metadata": {
    "collapsed": true
   },
   "outputs": [],
   "source": []
  }
 ],
 "metadata": {
  "kernelspec": {
   "display_name": "Python 2",
   "language": "python",
   "name": "python2"
  },
  "language_info": {
   "codemirror_mode": {
    "name": "ipython",
    "version": 2
   },
   "file_extension": ".py",
   "mimetype": "text/x-python",
   "name": "python",
   "nbconvert_exporter": "python",
   "pygments_lexer": "ipython2",
   "version": "2.7.10"
  }
 },
 "nbformat": 4,
 "nbformat_minor": 0
}
