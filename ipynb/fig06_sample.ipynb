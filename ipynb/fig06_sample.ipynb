{
 "cells": [
  {
   "cell_type": "markdown",
   "metadata": {},
   "source": [
    "## Sample characterization (Figure 6)"
   ]
  },
  {
   "cell_type": "code",
   "execution_count": 1,
   "metadata": {
    "collapsed": true
   },
   "outputs": [],
   "source": [
    "# Import modules\n",
    "import sys, h5py\n",
    "import numpy as np\n",
    "import scipy.misc\n",
    "%matplotlib inline\n",
    "\n",
    "# Import modules from src directory\n",
    "sys.path.append(\"../src\")\n",
    "import plotting"
   ]
  },
  {
   "cell_type": "code",
   "execution_count": 2,
   "metadata": {
    "collapsed": true
   },
   "outputs": [],
   "source": [
    "# I/O settings\n",
    "plotdir = '/Users/benedikt/phd-project/documentation/manuscripts/omrv-paper/manuscript/figures/'"
   ]
  },
  {
   "cell_type": "markdown",
   "metadata": {},
   "source": [
    "### 1. Loading data from file"
   ]
  },
  {
   "cell_type": "code",
   "execution_count": 3,
   "metadata": {
    "collapsed": false
   },
   "outputs": [],
   "source": [
    "DMA_file = '../meta/prep/size.txt' \n",
    "SEM_file = '../meta/prep/omrv.tif'"
   ]
  },
  {
   "cell_type": "code",
   "execution_count": 4,
   "metadata": {
    "collapsed": true
   },
   "outputs": [],
   "source": [
    "# Load size distribution from DMA\n",
    "data_dma = np.loadtxt(DMA_file, skiprows=0, delimiter='\\t', usecols=[0,1,2], comments='#')\n",
    "size_dma = data_dma[0:,0]\n",
    "conc_dma = data_dma[0:,2]"
   ]
  },
  {
   "cell_type": "code",
   "execution_count": 5,
   "metadata": {
    "collapsed": false
   },
   "outputs": [
    {
     "name": "stdout",
     "output_type": "stream",
     "text": [
      "The pixelsize is 0.21 nm\n"
     ]
    }
   ],
   "source": [
    "# Load EM image\n",
    "sem_image = scipy.misc.imread(SEM_file)[:750,1500:3000]\n",
    "pixelsize = 100./ (2824-2342)  #[nm]\n",
    "print \"The pixelsize is %.2f nm\" %pixelsize"
   ]
  },
  {
   "cell_type": "markdown",
   "metadata": {},
   "source": [
    "### 2. Plotting"
   ]
  },
  {
   "cell_type": "code",
   "execution_count": 7,
   "metadata": {
    "collapsed": false
   },
   "outputs": [],
   "source": [
    "plot = plotting.Plot(rows=1, cols=3, exclude=[0,1], fontsize=8, legend=True, legend_frameon=False, save_pdf=True)\n",
    "plot.add_axes((0,0), 2,1)\n",
    "plot.title_label = 2*['']\n",
    "plot.xlabel = [r'Diameter [nm]'] + ['']\n",
    "plot.ylabel = [r'Concentration [arb. units]'] + ['']\n",
    "\n",
    "# Plot the SEM image\n",
    "plot.plotting_a_map(1,sem_image, cmap='gray')\n",
    "plot.plotting_a_rectangle(1, 1250, 700, 40./pixelsize, 10, facecolor='w', edgecolor='w')\n",
    "plot.axes[1].text(1250+20./pixelsize, 680, '40 nm', ha='center', va='bottom', fontsize=10, color='w')\n",
    "plot.axes[1].set_xticks([])\n",
    "plot.axes[1].set_yticks([])\n",
    "plot.axes[1].set_xticklabels([])\n",
    "plot.axes[1].set_yticklabels([])\n",
    "plot.axes[1].text(20, 15, '(a)', color='w', va='top', ha='left', fontsize=10)\n",
    "#plot.axes[1].annotate('', xy = (158, 60), xytext = (158+50, 60), fontsize = 10, \n",
    "#                      color = '#303030', \n",
    "#                      arrowprops=dict(edgecolor='blue', arrowstyle = '<->', shrinkA = 0, shrinkB = 0, lw=1))\n",
    "\n",
    "# Plot the DMA size distribution\n",
    "plot.plotting_traces(0, [size_dma], [conc_dma], [''], colors=['r'], xlim=[0,100], ylim=[0,11])\n",
    "plot.axes[0].yaxis.set_label_position('right')\n",
    "plot.axes[0].tick_params(axis='y', which='both', left='off', right='on', labelleft='off', labelright='on')\n",
    "plot.axes[0].set_xticks(range(0,120,20))\n",
    "plot.axes[0].set_yticks(range(0,11))\n",
    "plot.axes[0].text(3, 10.6, '(b)', color='k', va='top', ha='left', fontsize=10)\n",
    "\n",
    "# Save the plot\n",
    "plot.save(plotdir + 'fig_samplechar.pdf')\n",
    "plot.show()"
   ]
  },
  {
   "cell_type": "markdown",
   "metadata": {},
   "source": [
    "**Figure 6.**\n",
    "(a) Negatively stained SEM (STEM mode) image of OmRV particles in a buffer of ammounium acetate.                                                                          \n",
    "(b) Size distribution measured using DMA."
   ]
  }
 ],
 "metadata": {
  "kernelspec": {
   "display_name": "Python 2",
   "language": "python",
   "name": "python2"
  },
  "language_info": {
   "codemirror_mode": {
    "name": "ipython",
    "version": 2
   },
   "file_extension": ".py",
   "mimetype": "text/x-python",
   "name": "python",
   "nbconvert_exporter": "python",
   "pygments_lexer": "ipython2",
   "version": "2.7.10"
  }
 },
 "nbformat": 4,
 "nbformat_minor": 0
}
