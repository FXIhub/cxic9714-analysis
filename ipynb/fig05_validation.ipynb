{
 "cells": [
  {
   "cell_type": "markdown",
   "metadata": {},
   "source": [
    "## Validation of sphere fitting (Figure 5)"
   ]
  },
  {
   "cell_type": "markdown",
   "metadata": {},
   "source": [
    "We using simulations to validate the sphere fitting approach"
   ]
  },
  {
   "cell_type": "code",
   "execution_count": 20,
   "metadata": {
    "collapsed": true
   },
   "outputs": [],
   "source": [
    "# Import modules\n",
    "import sys, h5py\n",
    "import numpy as np\n",
    "%matplotlib inline\n",
    "\n",
    "# Import modules from src directory\n",
    "sys.path.append(\"../src\")\n",
    "import plotting"
   ]
  },
  {
   "cell_type": "code",
   "execution_count": 21,
   "metadata": {
    "collapsed": true
   },
   "outputs": [],
   "source": [
    "# Simulation parameters\n",
    "nsamples = 20\n",
    "nsizes   = 300\n",
    "nintensities = 80\n",
    "shape = (nsamples, nsizes*nintensities)\n",
    "pulse_length = 50e-15 #[s]\n",
    "pixelsize = 110e-3 #[mm]\n",
    "detector_distance = 2400 #[mm]\n",
    "wavelength = 0.22621e-9 #[m]\n",
    "diameter_limits = slice(35,300, None)\n",
    "islice  = slice(20,80, None)\n",
    "delta_hitscore = 50\n",
    "hlimits = [200,3000]\n",
    "max_error_center = 2\n",
    "max_error_diameter = 4\n",
    "max_error_intensity = 40"
   ]
  },
  {
   "cell_type": "markdown",
   "metadata": {},
   "source": [
    "### 1. Loading data from file"
   ]
  },
  {
   "cell_type": "code",
   "execution_count": 22,
   "metadata": {
    "collapsed": true
   },
   "outputs": [],
   "source": [
    "filename = '../analysis/validation/simulation.h5'"
   ]
  },
  {
   "cell_type": "code",
   "execution_count": 23,
   "metadata": {
    "collapsed": false
   },
   "outputs": [],
   "source": [
    "with h5py.File(filename, 'r') as f:\n",
    "    diameter_true   = f[\"simulation\"][\"diameter\"][:].reshape(shape)\n",
    "    intensity_true  = f[\"simulation\"][\"intensity\"][:].reshape(shape)\n",
    "    centerx_true    = f[\"simulation\"][\"cx\"][:].reshape(shape)\n",
    "    centery_true    = f[\"simulation\"][\"cy\"][:].reshape(shape)\n",
    "    diameter_fit    = f[\"results\"][\"diameter\"][:].reshape(shape)\n",
    "    intensity_fit   = f[\"results\"][\"intensity\"][:].reshape(shape)\n",
    "    intensity2_fit  = f[\"results\"][\"intensity_rescaled\"][:].reshape(shape)\n",
    "    centerx_fit     = f[\"results\"][\"cx\"][:].reshape(shape)\n",
    "    centery_fit     = f[\"results\"][\"cy\"][:].reshape(shape)\n",
    "    chisquared      = f[\"results\"][\"chisquared\"][:].reshape(shape)\n",
    "    hitscore_npeaks = f[\"results\"][\"npeaks\"][:].reshape(shape)\n",
    "    sum_model       = f[\"simulation\"][\"sum_model\"][:].reshape(shape)\n",
    "    sum_bg          = f[\"simulation\"][\"sum_background\"][:].reshape(shape)\n",
    "    sum_data        = f[\"simulation\"][\"sum_data\"][:].reshape(shape)\n",
    "    nr_photons_model = f[\"simulation\"][\"nr_photons_model\"][:].reshape(shape)\n",
    "    nr_photons_bg    = f[\"simulation\"][\"nr_photons_background\"][:].reshape(shape)\n",
    "    nr_photons_data  = f[\"simulation\"][\"nr_photons_data\"][:].reshape(shape)"
   ]
  },
  {
   "cell_type": "markdown",
   "metadata": {},
   "source": [
    "### 2. Converting to different units"
   ]
  },
  {
   "cell_type": "code",
   "execution_count": 24,
   "metadata": {
    "collapsed": false
   },
   "outputs": [],
   "source": [
    "# True Intensity in units of mJ/mu2 and W/cm2\n",
    "intensity_true_Wcm2  = intensity_true\n",
    "intensity_true_mJum2 = intensity_true * (1000 * pulse_length) / 1e8\n",
    "\n",
    "# Fitted intensity in units of mJ/um2 and W/cm2\n",
    "intensity_fit_Wcm2   = intensity_fit * 1e8 / (1000 * pulse_length)\n",
    "intensity_fit_mJum2  = intensity2_fit\n",
    "\n",
    "# Intensity in Nr. of photons\n",
    "h = 6.62606957e-34 #Js\n",
    "c = 299792458 #m/s\n",
    "hc = h*c  #Jm\n",
    "intensity_true_NrPhum2 = ((intensity_true_mJum2 / 1000.) * wavelength) / (hc)\n",
    "intensity_fit_NrPhum2  = ((intensity_fit_mJum2 / 1000.) * wavelength) / (hc)\n",
    "intensity_true_NrPh    = intensity_true_NrPhum2 * np.pi * (1e-3*diameter_true/2.)**2\n",
    "\n",
    "# Make a grid of size vs. intensity\n",
    "grid_shape = (nintensities, nsizes)\n",
    "x = diameter_true[0].reshape(grid_shape)[0,:]\n",
    "y = intensity_true_NrPhum2[0].reshape(grid_shape)[:,0]\n",
    "X,Y = np.meshgrid(x, y)\n",
    "\n",
    "# Intensity limits\n",
    "ilimits = [y[islice.start], y[islice.stop-1]]\n",
    "idetection = ilimits[0]\n",
    "\n",
    "# Translate pixel to mrad\n",
    "centerx_true_mrad = np.arctan(centerx_true * pixelsize / detector_distance) * 1000. + 0.7\n",
    "centery_true_mrad = np.arctan(centery_true * pixelsize / detector_distance) * 1000. + 0.6\n",
    "centerx_fit_mrad  = np.arctan(centerx_fit  * pixelsize / detector_distance) * 1000. + 0.7\n",
    "centery_fit_mrad  = np.arctan(centery_fit  * pixelsize / detector_distance) * 1000. + 0.6"
   ]
  },
  {
   "cell_type": "markdown",
   "metadata": {},
   "source": [
    "### 3. Computing errors (simulation vs. truth)"
   ]
  },
  {
   "cell_type": "code",
   "execution_count": 25,
   "metadata": {
    "collapsed": false
   },
   "outputs": [],
   "source": [
    "# Absolute error in center position\n",
    "absolute_error_centerx_mrad = (centerx_fit_mrad - centerx_true_mrad).mean(axis=0)\n",
    "absolute_error_centery_mrad = (centery_fit_mrad - centery_true_mrad).mean(axis=0)\n",
    "absolute_error_centerx = (centerx_fit - centerx_true).mean(axis=0)\n",
    "absolute_error_centery = (centery_fit - centery_true).mean(axis=0)\n",
    "absolute_error_centerr = np.sqrt(absolute_error_centerx**2 + absolute_error_centery**2)\n",
    "\n",
    "# Absolute error in diameter\n",
    "absolute_error_diameter  = (diameter_fit - diameter_true).mean(axis=0)\n",
    "\n",
    "# Absolute error in intensity\n",
    "absolute_error_intensity_mJum2   = (intensity_fit_mJum2   - intensity_true_mJum2).mean(axis=0)\n",
    "absolute_error_intensity_Wcm2    = (intensity_fit_Wcm2    - intensity_true_Wcm2).mean(axis=0)\n",
    "absolute_error_intensity_NrPhum2 = (intensity_fit_NrPhum2 - intensity_true_NrPhum2).mean(axis=0)\n",
    "\n",
    "hitscore_mean = hitscore_npeaks.mean(axis=0)\n",
    "hits   = (hitscore_mean >= 600) & (diameter_true[0] > diameter_limits.start) & (intensity_true_NrPhum2[0] > idetection)\n",
    "blanks = hitscore_mean <  600\n",
    "middle = (hitscore_mean >= 600) & ~((diameter_true[0] > diameter_limits.start) & (intensity_true_NrPhum2[0] > idetection))\n",
    "\n",
    "diameter_limit  = diameter_true.mean(axis=0).reshape(grid_shape) > diameter_limits.start\n",
    "intensity_limit = intensity_true_NrPhum2.mean(axis=0).reshape(grid_shape) >= idetection\n",
    "\n",
    "good_x = X[(hitscore_mean.reshape(grid_shape) > 600) & diameter_limit & intensity_limit]\n",
    "good_y = Y[(hitscore_mean.reshape(grid_shape) > 600) & diameter_limit & intensity_limit]\n",
    "\n",
    "middle_x = X[(hitscore_mean.reshape(grid_shape) > 600) & ~(diameter_limit & intensity_limit)]\n",
    "middle_y = Y[(hitscore_mean.reshape(grid_shape) > 600) & ~(diameter_limit & intensity_limit)]\n",
    "\n",
    "bad_x = X[(hitscore_mean.reshape(grid_shape) < 600)]\n",
    "bad_y = Y[(hitscore_mean.reshape(grid_shape) < 600)]\n",
    "\n",
    "intensity_true_hits   = intensity_true_NrPhum2.mean(axis=0)[hits]\n",
    "intensity_true_blanks = intensity_true_NrPhum2.mean(axis=0)[blanks]\n",
    "intensity_true_middle = intensity_true_NrPhum2.mean(axis=0)[middle]\n",
    "intensity_fit_hits    = intensity_fit_NrPhum2.mean(axis=0)[hits]\n",
    "intensity_fit_blanks  = intensity_fit_NrPhum2.mean(axis=0)[blanks]\n",
    "intensity_fit_middle  = intensity_fit_NrPhum2.mean(axis=0)[middle]\n",
    "\n",
    "diameter_true_hits   = diameter_true.mean(axis=0)[hits]\n",
    "diameter_true_blanks = diameter_true.mean(axis=0)[blanks]\n",
    "diameter_true_middle = diameter_true.mean(axis=0)[middle]\n",
    "diameter_fit_hits    = diameter_fit.mean(axis=0)[hits]\n",
    "diameter_fit_blanks  = diameter_fit.mean(axis=0)[blanks]\n",
    "diameter_fit_middle  = diameter_fit.mean(axis=0)[middle]"
   ]
  },
  {
   "cell_type": "markdown",
   "metadata": {},
   "source": [
    "### 4. Plotting"
   ]
  },
  {
   "cell_type": "code",
   "execution_count": 26,
   "metadata": {
    "collapsed": false
   },
   "outputs": [],
   "source": [
    "plot = plotting.Plot(fontsize=8, cols=3, rows=1, exclude=[0], border_in=0.5, aspect=1, window_width=1000, \n",
    "                     colorbar=False, legend=False, save_png=True)\n",
    "plot.add_axes((0,0), 1,1, hfrac=1, padx=-0.01)\n",
    "plot.title_label = 3*['']\n",
    "plot.xlabel = [r'$x_{\\mathrm{fit}} - x_{\\mathrm{truth}}$ [px]',\n",
    "               r'$d_{\\mathrm{fit}} - d_{\\mathrm{truth}}$ [nm]',\n",
    "               r'$d_{\\mathrm{truth}}$ [nm]']\n",
    "plot.ylabel = [r'$y_{\\mathrm{fit}} - y_{\\mathrm{truth}}$ [px]',\n",
    "               r'$(I^0_{\\mathrm{fit}} - I^0_{\\mathrm{truth}}) / I^0_{\\mathrm{truth}}$',\n",
    "               r'$I^0_{\\mathrm{truth}}$ [photons/$\\mu$m$^2$]']\n",
    "\n",
    "plot.plotting_correlation(2, [good_x, middle_x, bad_x], [good_y, middle_y, bad_y],\n",
    "                          logy=True, xlim=(0,nsizes), ylim=(5e8, 5e12), markersize=5, marker='s', alpha=1,\n",
    "                          labels=[r'good', 'bad', 'not detected'],\n",
    "                          color=[ 'lightgreen', 'orange', 'gray'])\n",
    "plot.plotting_a_contour(2, X,Y,hitscore_mean.reshape(grid_shape),\n",
    "                        (600,), colors='k', linewidths=1.5, label=False, format='%d')\n",
    "plot.axes[2].axvline(diameter_limits.start + 1.5, color='k', linestyle='--')\n",
    "plot.axes[2].axhline(idetection - 0.0005, color='k', linestyle='--')\n",
    "plot.axes[2].text(250, 4e12, '(a)', va='top', ha='left', fontsize=10)\n",
    "plot.axes[2].set_xticks([0,100,200,300])\n",
    "\n",
    "plot.plotting_correlation(0,\n",
    "                          [absolute_error_centerx[blanks],\n",
    "                           absolute_error_centerx[middle],\n",
    "                           absolute_error_centerx[hits]],\n",
    "                          [absolute_error_centery[blanks],\n",
    "                           absolute_error_centery[middle],\n",
    "                           absolute_error_centery[hits]],\n",
    "                          xlim=[-10,5], ylim=[-5,10], logx=False, logy=False,\n",
    "                          color=['gray', 'orange', 'lightgreen'],\n",
    "                          markersize=3, marker='o', alpha=0.5)\n",
    "plot.axes[0].tick_params(axis='y', right='on', left='on', labelright='off', labelleft='on', labelcolor='k', direction='in')\n",
    "plot.axes[0].text(-9.5, 9.5, '(b)', va='top', ha='left', fontsize=10)\n",
    "\n",
    "plot.plotting_correlation(1,\n",
    "                          [absolute_error_diameter[blanks],\n",
    "                           absolute_error_diameter[middle],\n",
    "                           absolute_error_diameter[hits]],\n",
    "                          [absolute_error_intensity_NrPhum2[blanks] / intensity_true_blanks,\n",
    "                           absolute_error_intensity_NrPhum2[middle] / intensity_true_middle,\n",
    "                           absolute_error_intensity_NrPhum2[hits] / intensity_true_hits],\n",
    "                          logx=False, logy=False, xlim=[-6,6], ylim=[-.5, 1.5],\n",
    "                          color=['gray', 'orange', 'lightgreen'],\n",
    "                          markersize=3, marker='o', alpha=0.5)\n",
    "#plot.axes[1].tick_params(axis='y', right='on', left='on', labelright='on', labelleft='off', labelcolor='k')\n",
    "#plot.axes[1].yaxis.set_label_position(\"right\")\n",
    "plot.axes[1].text(-5.5, 1.45, '(c)', va='top', ha='left', fontsize=10)\n",
    "\n",
    "plot.save('/Users/benedikt/phd-project/documentation/manuscripts/omrv-paper/manuscript/figures/fig_simulation_simple.png') \n",
    "plot.show()"
   ]
  },
  {
   "cell_type": "markdown",
   "metadata": {},
   "source": [
    "**Figure 5.**\n",
    "Validation of the classification procedure based on simulation of spheres with different particle sizes and photon intensities.                                           \n",
    "(a) Separation of non-hits (gray area) and hits (above the black solid line) as function of particle size and intensity.                                                           \n",
    "Data points with strong deviations are depicted in orange, the rest is shown in green and separated by black dashed lines.                                                         \n",
    "(b) Distribution errors in diffraction center. (c) Distribution of errors in particle size and intensity (normalized to ground truth of intensity).                                \n",
    "A statistical summary of the green distributions is given below."
   ]
  },
  {
   "cell_type": "code",
   "execution_count": 68,
   "metadata": {
    "collapsed": false
   },
   "outputs": [
    {
     "name": "stdout",
     "output_type": "stream",
     "text": [
      "x, std =  0.0948476984557\n",
      "y, std =  0.0810889166573\n",
      "d, std =  0.147354404899\n",
      "I, std =  0.0488678594065\n",
      "x, min =  -1.45763483549\n",
      "y, min =  -0.586941577885\n",
      "d, min =  -0.913126414295\n",
      "I, min =  -0.0065876016447\n",
      "x, max =  1.05037254708\n",
      "y, max =  1.98510603377\n",
      "d, max =  3.18761118119\n",
      "I, max =  0.413115114905\n"
     ]
    }
   ],
   "source": [
    "print \"x, std = \", np.std(absolute_error_centerx[hits])                                                                                                                           \n",
    "print \"y, std = \", np.std(absolute_error_centery[hits])                                                                                                                           \n",
    "print \"d, std = \", np.std(absolute_error_diameter[hits])                                                                                                                          \n",
    "print \"I, std = \", np.std(absolute_error_intensity_NrPhum2[hits] / intensity_true_hits)                                                                                     \n",
    "                                                                                                                                                                                  \n",
    "print \"x, min = \", np.min(absolute_error_centerx[hits])                                                                                                                           \n",
    "print \"y, min = \", np.min(absolute_error_centery[hits])                                                                                                                           \n",
    "print \"d, min = \", np.min(absolute_error_diameter[hits])                                                                                                                          \n",
    "print \"I, min = \", np.min(absolute_error_intensity_NrPhum2[hits] / intensity_true_hits)                                                                                     \n",
    "                                                                                                                                                                                  \n",
    "print \"x, max = \", np.max(absolute_error_centerx[hits])                                                                                                                           \n",
    "print \"y, max = \", np.max(absolute_error_centery[hits])                                                                                                                           \n",
    "print \"d, max = \", np.max(absolute_error_diameter[hits])                                                                                                                          \n",
    "print \"I, max = \", np.max(absolute_error_intensity_NrPhum2[hits] / intensity_true_hits)  "
   ]
  },
  {
   "cell_type": "code",
   "execution_count": null,
   "metadata": {
    "collapsed": true
   },
   "outputs": [],
   "source": []
  }
 ],
 "metadata": {
  "kernelspec": {
   "display_name": "Python 2",
   "language": "python",
   "name": "python2"
  },
  "language_info": {
   "codemirror_mode": {
    "name": "ipython",
    "version": 2
   },
   "file_extension": ".py",
   "mimetype": "text/x-python",
   "name": "python",
   "nbconvert_exporter": "python",
   "pygments_lexer": "ipython2",
   "version": "2.7.10"
  }
 },
 "nbformat": 4,
 "nbformat_minor": 0
}
