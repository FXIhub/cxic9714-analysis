{
 "cells": [
  {
   "cell_type": "markdown",
   "metadata": {},
   "source": [
    "## Beamprofile (Figure 7)"
   ]
  },
  {
   "cell_type": "code",
   "execution_count": 1,
   "metadata": {
    "collapsed": true
   },
   "outputs": [],
   "source": [
    "# Import modules\n",
    "import sys, h5py\n",
    "import numpy as np\n",
    "import scipy as sp\n",
    "%matplotlib inline\n",
    "\n",
    "# Import modules from src directory\n",
    "sys.path.append(\"../src\")\n",
    "import plotting"
   ]
  },
  {
   "cell_type": "code",
   "execution_count": 2,
   "metadata": {
    "collapsed": true
   },
   "outputs": [],
   "source": [
    "# Physical constants\n",
    "h = 6.62606957e-34 #Js\n",
    "c = 299792458 #m/s\n",
    "hc = h*c  #Jm"
   ]
  },
  {
   "cell_type": "code",
   "execution_count": 3,
   "metadata": {
    "collapsed": true
   },
   "outputs": [],
   "source": [
    "# Lorentzian\n",
    "lorentz1d = lambda x, I, gamma: (I * gamma**2) / (x**2 + gamma**2) "
   ]
  },
  {
   "cell_type": "code",
   "execution_count": 4,
   "metadata": {
    "collapsed": true
   },
   "outputs": [],
   "source": [
    "# I/O settings\n",
    "plotdir = '/Users/benedikt/phd-project/documentation/manuscripts/omrv-paper/manuscript/figures/'"
   ]
  },
  {
   "cell_type": "markdown",
   "metadata": {},
   "source": [
    "### 1. Loading data from file"
   ]
  },
  {
   "cell_type": "code",
   "execution_count": 5,
   "metadata": {
    "collapsed": false
   },
   "outputs": [],
   "source": [
    "# Load size/intensity distribution\n",
    "results_file = '../meta/results.h5'\n",
    "with h5py.File(results_file, 'r') as f:\n",
    "    diameter  = f['diameter'][:]   # nm\n",
    "    intensity = f['intensity'][:]  # mJ/um2"
   ]
  },
  {
   "cell_type": "code",
   "execution_count": 6,
   "metadata": {
    "collapsed": true
   },
   "outputs": [],
   "source": [
    "# Rescale intensity\n",
    "wavelength = 0.2262 #nm\n",
    "mJtoPh = lambda i: ((i / 1000.) * wavelength*1e-9) / (hc)  * 1e-12"
   ]
  },
  {
   "cell_type": "markdown",
   "metadata": {},
   "source": [
    "### 2. Invert intensity data (35 - 45 nm) to get beam profile in the center"
   ]
  },
  {
   "cell_type": "code",
   "execution_count": 7,
   "metadata": {
    "collapsed": false
   },
   "outputs": [],
   "source": [
    "# Select size range\n",
    "size_min, size_max = (35,45)\n",
    "intensity_profile   = intensity[(diameter > size_min) & (diameter < size_max)]\n",
    "diameter_profile    = diameter[(diameter > size_min) & (diameter < size_max)]\n",
    "\n",
    "# Model for beam profile\n",
    "Ebefore = 3.29 # mJ\n",
    "transmission = 0.15\n",
    "s = np.argsort(intensity_profile)[::-1]\n",
    "pintensity_center = intensity_profile[s]\n",
    "r_center = np.sqrt((float(Ebefore*transmission) / np.sum(intensity_profile) / np.pi)*np.arange(0,intensity_profile.shape[0]+1))\n",
    "fwhm_center = r_center[np.argmin(np.abs(pintensity_center - (pintensity_center[0]/2)))]*2 * 1000. # in nm\n",
    "\n",
    "# Mirror the profile\n",
    "xmirrored_center = np.hstack([-r_center[:-1][::-1],r_center[:-1]])\n",
    "ymirrored_center = mJtoPh(np.hstack([pintensity_center[::-1], pintensity_center])) # in Nr. Photons per um2\n",
    "\n",
    "# Intensity histogram\n",
    "hist,edges = np.histogram(mJtoPh(intensity_profile), range=(0,0.5), bins=50)"
   ]
  },
  {
   "cell_type": "markdown",
   "metadata": {},
   "source": [
    "### 3. Invert intensity data (235 - 300 nm) to get beam profile in the tails"
   ]
  },
  {
   "cell_type": "code",
   "execution_count": 8,
   "metadata": {
    "collapsed": false
   },
   "outputs": [],
   "source": [
    "# Select size range\n",
    "size_min, size_max = (235,300)\n",
    "intensity_profile  = intensity[(diameter > size_min) & (diameter < size_max)]\n",
    "diameter_profile   = diameter[(diameter > size_min) & (diameter < size_max)]\n",
    "\n",
    "# Model for beam profile\n",
    "Ebefore = 3.29 # mJ\n",
    "transmission = 0.15\n",
    "s = np.argsort(intensity_profile)[::-1]\n",
    "pintensity_tails = intensity_profile[s]\n",
    "r_tails = np.sqrt((float(Ebefore*transmission) / np.sum(intensity_profile) / np.pi)*np.arange(0,intensity_profile.shape[0]+1))\n",
    "fwhm_tails = r_tails[np.argmin(np.abs(pintensity_tails - (pintensity_tails[0]/2)))]*2 * 1000. # in nm\n",
    "\n",
    "# Mirror the profile\n",
    "xmirrored_tails = np.hstack([-r_tails[:-1][::-1],r_tails[:-1]])\n",
    "ymirrored_tails = mJtoPh(np.hstack([pintensity_tails[::-1], pintensity_tails])) # in Nr. Photons per um2\n",
    "\n",
    "# Intensity histogram\n",
    "hist,edges = np.histogram(mJtoPh(intensity_profile), range=(0,0.5), bins=50)"
   ]
  },
  {
   "cell_type": "code",
   "execution_count": 9,
   "metadata": {
    "collapsed": false
   },
   "outputs": [],
   "source": [
    "# Combined profile\n",
    "select_tails  = r_tails[:-1] > 0.68\n",
    "select_center = r_center[:-1] < 0.7\n",
    "pintensity_combined = np.hstack([pintensity_center[select_center], pintensity_tails[select_tails]])\n",
    "\n",
    "# Do normalization on the combined profile\n",
    "Ebefore = 3.29 # mJ\n",
    "transmission = 0.2\n",
    "r_combined = np.sqrt((float(Ebefore*transmission) / np.sum(pintensity_combined) / np.pi)*np.arange(pintensity_combined.shape[0]+1))\n",
    "fwhm_combined = r_combined[np.argmin(np.abs(pintensity_combined - (pintensity_combined[0]/2)))]*2 * 1000. # in nm\n",
    "#print fwhm_combined, 2*r_combined.max()\n",
    "\n",
    "# Mirror the profile\n",
    "xmirrored_combined = np.hstack([-r_combined[:-1][::-1],r_combined[:-1]])\n",
    "ymirrored_combined = mJtoPh(np.hstack([pintensity_combined[::-1], pintensity_combined])) # in Nr. Photons per um2"
   ]
  },
  {
   "cell_type": "code",
   "execution_count": 10,
   "metadata": {
    "collapsed": false
   },
   "outputs": [],
   "source": [
    "# Resample the combined profile on a regular grid\n",
    "dx = 1e-3                                                                                                          \n",
    "x = np.arange(xmirrored_combined.min(), xmirrored_combined.max(), dx)\n",
    "f = sp.interpolate.interp1d(xmirrored_combined, ymirrored_combined)  \n",
    "y = f(x)\n",
    "\n",
    "# Fit single lorentzian to initial beam reconstruction                                                             \n",
    "popt, pcov = sp.optimize.curve_fit(lorentz1d, x, y)                                                   \n",
    "Ifit ,gammafit = popt                                                                                              \n",
    "lfit = lorentz1d(x, Ifit, gammafit) "
   ]
  },
  {
   "cell_type": "markdown",
   "metadata": {},
   "source": [
    "### 3. Plotting"
   ]
  },
  {
   "cell_type": "code",
   "execution_count": 11,
   "metadata": {
    "collapsed": false
   },
   "outputs": [
    {
     "data": {
      "image/png": "[encoded data removed]",
      "text/plain": [
       "<matplotlib.figure.Figure at 0x10ab17310>"
      ]
     },
     "metadata": {},
     "output_type": "display_data"
    }
   ],
   "source": [
    "plot = plotting.Plot(rows=1, cols=2, aspect=1, fontsize=10, legend=True, legend_frameon=False, legend_location=2,save_pdf=True)\n",
    "plot.xlabel = [r'Distance to beam axis [arb. units]', r'Distance to beam axis [$\\mu$m]']\n",
    "plot.ylabel = 2*[r'Photon intensity [$10^{12}$ photons /$\\mu$m$^2$]']\n",
    "plot.title_label = ['', '']\n",
    "\n",
    "# Plotting the beam profile\n",
    "plot.plotting_traces(0, [xmirrored_center, xmirrored_tails], \n",
    "                         [ymirrored_center, ymirrored_tails],\n",
    "                        ['  35 -   45 nm particles', '235 - 300 nm particles'],\n",
    "                        colors=['g', 'b'], mecs=['g', 'b'], mfcs=['g', 'b'], linestyles=['None', 'None'],\n",
    "                        linewidths=[0,0,], markers=['.','.'], markersize=3, logy=False,\n",
    "                        ylim=[0,1.3], xlim=[-2.5, 2.5])\n",
    "plot.axes[0].tick_params(axis='y', which='both', right='off', left='on', labelright='off', labelleft='on')\n",
    "                         #direction='inout', pad=20)\n",
    "plot.axes[0].tick_params(axis='x', which='both', bottom='on', top='off', labelbottom='on', labeltop='off')\n",
    "plot.axes[0].yaxis.set_label_position(\"left\")\n",
    "plot.axes[0].xaxis.labelpad = 7\n",
    "plot.axes[0].spines['top'].set_visible(False)\n",
    "plot.axes[0].spines['right'].set_visible(False)\n",
    "plot.axes[0].text(-2.5,1.45, '(a)', va='top', ha='center', fontsize=10, color='k')\n",
    "plot.axes[0].set_yticks([0,0.2,0.4,0.6,0.8,1.,1.2])\n",
    "\n",
    "# Plotting the beam profile\n",
    "plot.plotting_traces(1, [xmirrored_combined], [ymirrored_combined],\n",
    "                        ['Combined reconstruction'],\n",
    "                        colors=['r'], mecs=['r'], mfcs=['r'], linestyles=['None'],\n",
    "                        linewidths=[0], markers=['.'], markersize=3, logy=False,\n",
    "                        ylim=[0,1.3], xlim=[-2., 2.])\n",
    "plot.axes[1].tick_params(axis='y', which='both', right='on', left='off', labelright='on', labelleft='off')\n",
    "plot.axes[1].tick_params(axis='x', which='both', bottom='on', top='off', labelbottom='on', labeltop='off')\n",
    "plot.axes[1].yaxis.set_label_position(\"right\")\n",
    "plot.axes[1].xaxis.labelpad = 7\n",
    "plot.axes[1].spines['top'].set_visible(False)\n",
    "plot.axes[1].spines['left'].set_visible(False)\n",
    "plot.axes[1].text(-2.,1.45, '(b)', va='top', ha='left', fontsize=10, color='k')\n",
    "plot.axes[1].set_xticks([-2,-1,0,1,2])\n",
    "plot.axes[1].set_yticks([0,0.2,0.4,0.6,0.8,1.,1.2])\n",
    "plot.plotting_traces(1, [x], [lfit],\n",
    "                        ['Lorentzian fit'],\n",
    "                        colors=['0.5'], mecs=['0.5'], mfcs=['0.5'], linestyles=['-'],\n",
    "                        linewidths=[1], markersize=1, logy=False,\n",
    "                        ylim=[0,1.3], xlim=[-2., 2])\n",
    "\n",
    "#plot.save(plotdir + 'fig_beam_profile.pdf')\n",
    "plot.show()"
   ]
  },
  {
   "cell_type": "markdown",
   "metadata": {
    "collapsed": true
   },
   "source": [
    "**Figure 7.**\n",
    "Reconstruction of the average X-ray beam profile in the focus. Injected particles are assumed to sample this profile uniformly.                                           \n",
    "(a) Independent reconstructions using intensities that correspond to the smallest detectable particle sizes ($35$--$45$~nm)                                                        \n",
    "and the largest observed particle sizes ($235$--$300$~nm).                                                                                                                         \n",
    "(b) Combined reconstruction using the blue tails and the green center from (a) with the x-axis being rescaled such that the                                                        \n",
    "integrated profile equals a pulse energy in the focus of $0.66$~mJ (based on $3.29$~mJ measured upstream of the optics and assuming 20 \\% transmission).                           \n",
    "With this scale, the reconstructed profile has a full width at half the maximum (FWHM) of $522$ nm. A Lorentzian fit to the profile is shown in gray."
   ]
  }
 ],
 "metadata": {
  "kernelspec": {
   "display_name": "Python 2",
   "language": "python",
   "name": "python2"
  },
  "language_info": {
   "codemirror_mode": {
    "name": "ipython",
    "version": 2
   },
   "file_extension": ".py",
   "mimetype": "text/x-python",
   "name": "python",
   "nbconvert_exporter": "python",
   "pygments_lexer": "ipython2",
   "version": "2.7.10"
  }
 },
 "nbformat": 4,
 "nbformat_minor": 0
}
