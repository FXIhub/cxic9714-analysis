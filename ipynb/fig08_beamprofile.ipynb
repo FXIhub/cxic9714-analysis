{
 "cells": [
  {
   "cell_type": "markdown",
   "metadata": {},
   "source": [
    "## Beamprofile (Figure 8)"
   ]
  },
  {
   "cell_type": "markdown",
   "metadata": {},
   "source": [
    "We are studying the average X-ray beam profile in the focus."
   ]
  },
  {
   "cell_type": "code",
   "execution_count": 14,
   "metadata": {
    "collapsed": true
   },
   "outputs": [],
   "source": [
    "# Import modules\n",
    "import sys, h5py\n",
    "import numpy as np\n",
    "%matplotlib inline\n",
    "\n",
    "# Import modules from src directory\n",
    "sys.path.append(\"../src\")\n",
    "import plotting"
   ]
  },
  {
   "cell_type": "code",
   "execution_count": 15,
   "metadata": {
    "collapsed": true
   },
   "outputs": [],
   "source": [
    "# Physical constants\n",
    "h = 6.62606957e-34 #Js\n",
    "c = 299792458 #m/s\n",
    "hc = h*c  #Jm"
   ]
  },
  {
   "cell_type": "markdown",
   "metadata": {},
   "source": [
    "### 1. Loading data from file"
   ]
  },
  {
   "cell_type": "code",
   "execution_count": 16,
   "metadata": {
    "collapsed": false
   },
   "outputs": [],
   "source": [
    "# Load size/intensity distribution\n",
    "results_file = '../analysis/results/results.h5'\n",
    "with h5py.File(results_file, 'r') as f:\n",
    "    diameter  = f['diameter'][:]\n",
    "    intensity = f['intensity'][:]"
   ]
  },
  {
   "cell_type": "markdown",
   "metadata": {},
   "source": [
    "### 2. Invert intensity data to get beam profile"
   ]
  },
  {
   "cell_type": "code",
   "execution_count": 17,
   "metadata": {
    "collapsed": false
   },
   "outputs": [],
   "source": [
    "# Select size/intensity range\n",
    "size_min, size_max = (35,300)\n",
    "intensity_min, intensity_max = (0,3)\n",
    "intensity_profile   = intensity[(diameter > size_min) & (diameter < size_max) & (intensity > intensity_min) & (intensity < intensity_max)]\n",
    "diameter_profile    = diameter[(diameter > size_min) & (diameter < size_max) & (intensity > intensity_min) & (intensity < intensity_max)]\n",
    "#intensity_detection = ((intensity_min / 1000.) * args.w*1e-9) / (hc) * (np.pi*(1e-3*np.sort(diameter) / 2.)**2)"
   ]
  },
  {
   "cell_type": "code",
   "execution_count": 18,
   "metadata": {
    "collapsed": false
   },
   "outputs": [],
   "source": [
    "# Model for beam profile\n",
    "s = np.argsort(intensity_profile)[::-1]\n",
    "pintensity = intensity_profile[s]\n",
    "pdiameter  = diameter_profile[s]\n",
    "rdist   = lambda E: np.sqrt((float(E) / np.sum(intensity_profile) / np.pi)*np.arange(0,intensity_profile.shape[0]+1))"
   ]
  },
  {
   "cell_type": "code",
   "execution_count": 19,
   "metadata": {
    "collapsed": true
   },
   "outputs": [],
   "source": [
    "# Data inversion to get average beam profile\n",
    "def get_profile(E):\n",
    "    r = rdist(E)\n",
    "    fwhm= r[np.argmin(np.abs(pintensity - (pintensity[0]/2)))]*2 * 1000.\n",
    "    xrecon = np.hstack([-r[:-1][::-1],r[:-1]])\n",
    "    precon = np.hstack([pintensity[::-1], pintensity])\n",
    "    return xrecon, precon, fwhm"
   ]
  },
  {
   "cell_type": "code",
   "execution_count": 20,
   "metadata": {
    "collapsed": false
   },
   "outputs": [],
   "source": [
    "# Get profile\n",
    "Ebefore = 1\n",
    "transmission = 1\n",
    "xprof, yprof, fwhm = get_profile(Ebefore*transmission)"
   ]
  },
  {
   "cell_type": "code",
   "execution_count": 21,
   "metadata": {
    "collapsed": false
   },
   "outputs": [],
   "source": [
    "# Rescale intensity\n",
    "wavelength = 0.2262 #nm\n",
    "yprof = ((yprof / 1000.) * wavelength*1e-9) / (hc)  * 1e-12\n",
    "pintensity = ((pintensity / 1000.) * wavelength*1e-9) / (hc)  * 1e-12\n",
    "intensity_scaled = ((intensity / 1000.) * wavelength*1e-9) / (hc)  * 1e-12"
   ]
  },
  {
   "cell_type": "code",
   "execution_count": 22,
   "metadata": {
    "collapsed": true
   },
   "outputs": [],
   "source": [
    "# Mirror the profile\n",
    "xmirrored = np.hstack([-rdist(Ebefore*transmission)[:-1],rdist(Ebefore*transmission)[:-1]])\n",
    "ymirrored = np.hstack([pintensity, pintensity])"
   ]
  },
  {
   "cell_type": "code",
   "execution_count": 23,
   "metadata": {
    "collapsed": true
   },
   "outputs": [],
   "source": [
    "hist,edges = np.histogram(intensity_scaled, range=(0,2.5), bins=250)"
   ]
  },
  {
   "cell_type": "markdown",
   "metadata": {},
   "source": [
    "### 3. Plotting"
   ]
  },
  {
   "cell_type": "code",
   "execution_count": 24,
   "metadata": {
    "collapsed": false
   },
   "outputs": [
    {
     "data": {
      "image/png": "[encoded data removed]",
      "text/plain": [
       "<matplotlib.figure.Figure at 0x10a739e50>"
      ]
     },
     "metadata": {},
     "output_type": "display_data"
    }
   ],
   "source": [
    "# Plotting the beam profile\n",
    "plot = plotting.Plot(rows=1, cols=2, aspect=1, fontsize=10, legend=False, save_pdf=True)\n",
    "plot.xlabel = [r'Photon intensity [$10^{12}$ photons /$\\mu m^2$]', r'Distance to beam axis [arb. units]']\n",
    "plot.ylabel = [r'Counts', r'Photon intensity [$10^{12}$ photons /$\\mu m^2$]']\n",
    "plot.title_label = ['', '']\n",
    "plot.plotting_a_histogram(0, hist, edges, type='bar', color='r')\n",
    "plot.plotting_traces(1, [xmirrored], [ymirrored],\n",
    "                        [''],\n",
    "                        colors=['r'], mecs=['r'], mfcs=['r'], linestyles=['None'],\n",
    "                        linewidths=[0], markers=['.'], markersize=3, logy=False,\n",
    "                        ylim=[0,2.5], xlim=[-2.5, 2.5])\n",
    "#plot.axes[1].set_xticks([])\n",
    "plot.axes[1].set_xticklabels([])\n",
    "plot.axes[1].tick_params(axis='y', which='both', right='on', left='off', labelright='on', labelleft='off')\n",
    "plot.axes[1].tick_params(axis='x', which='both', bottom='on', top='off', labelbottom='on', labeltop='off')\n",
    "plot.axes[1].yaxis.set_label_position(\"right\")\n",
    "plot.axes[1].xaxis.labelpad = 16\n",
    "plot.axes[0].text(0.1,1150, '(a)', va='top', ha='left', fontsize=10, color='k')\n",
    "plot.axes[1].text(-2.3,2.4, '(b)', va='top', ha='left', fontsize=10, color='k')\n",
    "#plot.save('/Users/benedikt/phd-project/documentation/manuscripts/omrv-paper/manuscript/figures/fig_beam_profile.pdf')\n",
    "plot.show()"
   ]
  },
  {
   "cell_type": "markdown",
   "metadata": {
    "collapsed": true
   },
   "source": [
    "**Figure 8.**\n",
    "(a) Histogram of estimated intensities. 1 bin equals $10^{11}$ photons / $\\mu$m$^2$.                                                                                      \n",
    "(b) Reconstruction of the average X-ray beam profile in the focus based on resorting the estimated photon intensities.                                                             \n",
    "The injected particles are assumed to uniformly sample the averaged beam profile."
   ]
  },
  {
   "cell_type": "code",
   "execution_count": null,
   "metadata": {
    "collapsed": true
   },
   "outputs": [],
   "source": []
  }
 ],
 "metadata": {
  "kernelspec": {
   "display_name": "Python 2",
   "language": "python",
   "name": "python2"
  },
  "language_info": {
   "codemirror_mode": {
    "name": "ipython",
    "version": 2
   },
   "file_extension": ".py",
   "mimetype": "text/x-python",
   "name": "python",
   "nbconvert_exporter": "python",
   "pygments_lexer": "ipython2",
   "version": "2.7.10"
  }
 },
 "nbformat": 4,
 "nbformat_minor": 0
}
