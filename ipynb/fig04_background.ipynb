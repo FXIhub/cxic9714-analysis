{
 "cells": [
  {
   "cell_type": "markdown",
   "metadata": {},
   "source": [
    "## Background (Figure 4)"
   ]
  },
  {
   "cell_type": "markdown",
   "metadata": {},
   "source": [
    "We are studying the per-pixel photon counts of the background. "
   ]
  },
  {
   "cell_type": "code",
   "execution_count": 2,
   "metadata": {
    "collapsed": true
   },
   "outputs": [],
   "source": [
    "# Import modules\n",
    "import sys, h5py\n",
    "import spimage\n",
    "import numpy as np\n",
    "%matplotlib inline\n",
    "\n",
    "# Import modules from src directory\n",
    "sys.path.append(\"../src\")\n",
    "import plotting"
   ]
  },
  {
   "cell_type": "code",
   "execution_count": 3,
   "metadata": {
    "collapsed": true
   },
   "outputs": [],
   "source": [
    "# Configuration (Experiment)\n",
    "distance_back  = 2.4 #[m]\n",
    "distance_front = 0.497 #[m]\n",
    "pixelsize = 110e-6 #[m]\n",
    "wavelength = 0.2262e-9 #[m]\n",
    "scaling = (distance_back/distance_front)**2\n",
    "\n",
    "# Cropping the front detector\n",
    "c = 700"
   ]
  },
  {
   "cell_type": "markdown",
   "metadata": {},
   "source": [
    "### 1. Loading data from file"
   ]
  },
  {
   "cell_type": "code",
   "execution_count": 4,
   "metadata": {
    "collapsed": true
   },
   "outputs": [],
   "source": [
    "filename_xray   = \"../analysis/background/background_xray_stats.h5\"\n",
    "filename_buffer = \"../analysis/background/background_buffer_stats.h5\"\n",
    "filename_mask_back  = '../analysis/masks/back_bad-pixels_assembled.h5'\n",
    "filename_mask_front = '../analysis/masks/front_mask.h5'\n",
    "#filename_mask_back_poisson  = \"../analysis/masks/back_mask_poisson.h5\"\n",
    "#filename_mask_front_poisson = \"../analysis/masks/front_mask_poisson.h5\""
   ]
  },
  {
   "cell_type": "code",
   "execution_count": 5,
   "metadata": {
    "collapsed": false
   },
   "outputs": [
    {
     "name": "stdout",
     "output_type": "stream",
     "text": [
      "Loaded X-ray background stats based on 15127 frames\n"
     ]
    }
   ],
   "source": [
    "with h5py.File(filename_xray, 'r') as f:\n",
    "    xray_back_mean  = f['back/mean'][:]\n",
    "    xray_back_var   = f['back/std'][:]**2\n",
    "    xray_front_mean = np.rot90(f['front/mean'][:], k=2)\n",
    "    xray_front_var  = np.rot90(f['front/std'][:], k=2)**2\n",
    "    nframes = f['nframes'][...]\n",
    "print \"Loaded X-ray background stats based on %d frames\" %nframes"
   ]
  },
  {
   "cell_type": "code",
   "execution_count": 6,
   "metadata": {
    "collapsed": false
   },
   "outputs": [
    {
     "name": "stdout",
     "output_type": "stream",
     "text": [
      "Loaded buffer background stats based on 11847 frames\n"
     ]
    }
   ],
   "source": [
    "with h5py.File(filename_buffer, 'r') as f:\n",
    "    buffer_back_mean  = f['back/mean'][:]\n",
    "    buffer_back_var   = f['back/std'][:]**2\n",
    "    buffer_front_mean = np.rot90(f['front/mean'][:], k=2)\n",
    "    buffer_front_var  = np.rot90(f['front/std'][:], k=2)**2\n",
    "    nframes    = f['nframes'][...]\n",
    "print \"Loaded buffer background stats based on %d frames\" %nframes"
   ]
  },
  {
   "cell_type": "markdown",
   "metadata": {},
   "source": [
    "### 2. Index of dispersion"
   ]
  },
  {
   "cell_type": "code",
   "execution_count": 7,
   "metadata": {
    "collapsed": false
   },
   "outputs": [],
   "source": [
    "# Mark pixels with zero mean as NAN (to avoid division-by-zero errors)\n",
    "xray_back_mean[(xray_back_mean == 0)] = np.nan\n",
    "xray_front_mean[(xray_front_mean == 0)] = np.nan\n",
    "\n",
    "# Calculate index of dispersion (variance over mean)\n",
    "xray_back_dispersion  = xray_back_var  / xray_back_mean\n",
    "xray_front_dispersion = xray_front_var / xray_front_mean"
   ]
  },
  {
   "cell_type": "markdown",
   "metadata": {},
   "source": [
    "### 3. Define new masks"
   ]
  },
  {
   "cell_type": "code",
   "execution_count": 8,
   "metadata": {
    "collapsed": false
   },
   "outputs": [],
   "source": [
    "# Load previous masks (bad pixels)\n",
    "with h5py.File(filename_mask_back, 'r') as f:\n",
    "    bmask = f['data/data'][:]\n",
    "with h5py.File(filename_mask_front, 'r') as f:\n",
    "    fmask = np.rot90(f['data/data'][:], k=-2)\n",
    "\n",
    "# Combine existing masks with mask based on in index of dispersion (mask out areas not following Poisson statistics)\n",
    "bvalid = ~np.isnan(xray_back_dispersion)\n",
    "fvalid = ~np.isnan(xray_front_dispersion)\n",
    "bmask &= bvalid\n",
    "fmask &= fvalid\n",
    "bmask[bvalid] &= ((xray_back_dispersion[bvalid] < 1.01) & (xray_back_dispersion[bvalid] > 0.99))\n",
    "fmask[fvalid] &= ((xray_front_dispersion[fvalid] < 1.01) & (xray_front_dispersion[fvalid] > 0.99))\n",
    "\n",
    "# Save new masks to file\n",
    "with h5py.File(\"../analysis/masks/back_mask_poisson.h5\", 'w') as f:\n",
    "    f['data/data'] = bmask\n",
    "with h5py.File(\"../analysis/masks/front_mask_poisson.h5\", 'w') as f:\n",
    "    f['data/data'] = fmask"
   ]
  },
  {
   "cell_type": "markdown",
   "metadata": {},
   "source": [
    "### 4. Radial average"
   ]
  },
  {
   "cell_type": "code",
   "execution_count": 9,
   "metadata": {
    "collapsed": false
   },
   "outputs": [],
   "source": [
    "# Center of front detector\n",
    "cx_back=(xray_back_mean.shape[1]-1)/2.0-16\n",
    "cy_back=(xray_back_mean.shape[0]-1)/2.0-36\n",
    "\n",
    "# Center of front detector\n",
    "cx_front=(xray_front_mean.shape[1]-1)/2.0-3\n",
    "cy_front=(xray_front_mean.shape[0]-1)/2.0-20"
   ]
  },
  {
   "cell_type": "code",
   "execution_count": 10,
   "metadata": {
    "collapsed": true
   },
   "outputs": [],
   "source": [
    "# Convert index to q (in nm)\n",
    "x_to_q = lambda x, d: (2*np.sin(np.arctan2(x*pixelsize, d)/2.)) / wavelength / 1e9"
   ]
  },
  {
   "cell_type": "code",
   "execution_count": 11,
   "metadata": {
    "collapsed": false
   },
   "outputs": [],
   "source": [
    "# Radial average of X-ray background (back)\n",
    "xray_back_centers, xray_back_mean_radial = spimage.radialMeanImage(xray_back_mean, msk=bmask, output_r=True)\n",
    "xray_back_mean_radial *= (distance_back/distance_front)**2\n",
    "xray_back_qr = x_to_q(xray_back_centers, distance_back)\n",
    "\n",
    "# Radial average of buffer background (back)\n",
    "buffer_back_centers, buffer_back_mean_radial = spimage.radialMeanImage(buffer_back_mean, msk=bmask, output_r=True)\n",
    "buffer_back_mean_radial *= (distance_back/distance_front)**2\n",
    "buffer_back_qr = x_to_q(buffer_back_centers, distance_back)\n",
    "\n",
    "# Radial average of X-ray background (front)\n",
    "xray_front_centers, xray_front_mean_radial = spimage.radialMeanImage(xray_front_mean, msk=fmask, cx=cx_front,cy=cy_front, output_r=True)\n",
    "xray_front_qr = x_to_q(xray_front_centers, distance_front)\n",
    "\n",
    "# Radial average of buffer background (front)\n",
    "buffer_front_centers, buffer_front_mean_radial = spimage.radialMeanImage(buffer_front_mean, msk=fmask, cx=cx_front,cy=cy_front, output_r=True)\n",
    "buffer_front_qr = x_to_q(buffer_front_centers, distance_front)"
   ]
  },
  {
   "cell_type": "code",
   "execution_count": 12,
   "metadata": {
    "collapsed": true
   },
   "outputs": [],
   "source": [
    "# Prepare radial averages for plotting\n",
    "x1 = xray_back_qr[::8]\n",
    "x2 = xray_front_qr[::8]\n",
    "x3 = buffer_back_qr[::8]\n",
    "x4 = buffer_front_qr[::8]\n",
    "y1 = xray_back_mean_radial[::8]\n",
    "y2 = xray_front_mean_radial[::8]\n",
    "y3 = buffer_back_mean_radial[::8]\n",
    "y4 = buffer_front_mean_radial[::8]\n",
    "\n",
    "# Prepare images for plotting\n",
    "im0 = xray_back_var\n",
    "im1 = xray_front_var[c-48:-c+6,c-34:-c+20]\n",
    "im2 = xray_back_mean\n",
    "im3 = xray_front_mean[c-48:-c+6,c-34:-c+20]\n",
    "im4 = xray_back_dispersion\n",
    "im5 = xray_front_dispersion[c-48:-c+6,c-34:-c+20]"
   ]
  },
  {
   "cell_type": "markdown",
   "metadata": {},
   "source": [
    "### 5. Plotting"
   ]
  },
  {
   "cell_type": "code",
   "execution_count": 14,
   "metadata": {
    "collapsed": false
   },
   "outputs": [],
   "source": [
    "plot = plotting.Plot(rows=3, cols=2, fontsize=8, colorbar=False, legend=True, legend_frameon=False, axes_visible=False, save_pdf=True)\n",
    "plot.add_axes((2,2),0.1,1, padx=.01)\n",
    "plot.add_axes((2,1),0.1,1, padx=.01)\n",
    "plot.add_axes((2,0),0.1,1, padx=.01)\n",
    "plot.add_axes((0,0),2.13,1,   pady=-.21, hfrac=0.75)\n",
    "plot.title_label = ['140k CSPAD (back)', 'cropped 2.3M CSPAD (front)'] + 9*['']\n",
    "plot.xlabel = 9*[''] + [r'q [nm$^{-1}$]']\n",
    "plot.ylabel = 9*[''] + [r'Intensity [photons / pixel / frame]']\n",
    "plot.colorbar_label = r'Intensity [photons / frame / pixel]'\n",
    "plot.plotting_a_map(0, im0[10:,:-17], mask=(im0!=0)[10:,:-17],  \n",
    "                    vmin=1e-4, vmax=1, bad='0.75', log=True, cmap='Blues', interpolation='nearest',\n",
    "                    colorbar=True, cax=plot.axes[6])\n",
    "plot.plotting_a_map(1, im1, mask=(im1!=0), \n",
    "                    vmin=1e-4, vmax=1, bad='0.75', log=True, cmap='Blues', interpolation='nearest')\n",
    "plot.plotting_a_map(2, im2[10:,:-17], mask=(im2!=0)[10:,:-17],  \n",
    "                    vmin=1e-4, vmax=1, bad='0.75', log=True, cmap='Reds', interpolation='nearest',\n",
    "                   colorbar=True, cax=plot.axes[7])\n",
    "plot.plotting_a_map(3, im3, mask=(im3!=0), \n",
    "                    vmin=1e-4, vmax=1, bad='0.75', log=True, cmap='Reds', interpolation='nearest')\n",
    "plot.colorbar_label = r'Index of Dispersion'\n",
    "plot.plotting_a_map(4, im4[10:,:-17], mask=(im4!=0)[10:,:-17],  \n",
    "                    vmin=0.9, vmax=1.1, bad='0.75', log=False, cmap='RdBu', interpolation='nearest',\n",
    "                    colorbar=True, cax=plot.axes[8])\n",
    "plot.plotting_a_map(5, im5, mask=(im5!=0), \n",
    "                    vmin=0.9, vmax=1.1, bad='0.75', log=False, cmap='RdBu', interpolation='nearest')\n",
    "plot.set_axes_layout(plot.axes[9], visible=True)\n",
    "plot.plotting_traces(9,\n",
    "                     [x1, x2, x3, x4], [y1, y2, y3, y4],\n",
    "                     ['X-ray bcakground(back)', 'X-ray background (front)', 'Buffer background (back)', 'Buffer background (front)'], \n",
    "                     linestyles=['-', '-', '-', '-'],                                                                                                           \n",
    "                     linewidths=[0,0,0,0], xlim=[0,x_to_q(1200., distance_front)], ylim=[5e-5,5e-1],                                                                                                    \n",
    "                     markersize=2, markers=['x', 'o', 'x', 'o',],                                                                                                 \n",
    "                     mecs=['b', 'b', 'r', 'r'], mfcs=['b', 'b', 'r', 'r'],                                                                            \n",
    "                     colors=['b', 'b', 'r', 'r'], alphas=[1,1,1,1,1],                                                                                                  \n",
    "                     logx=False, logy=True)\n",
    "plot.axes[9].yaxis.set_label_position('right')\n",
    "plot.axes[9].tick_params(axis='y', which='both', left='off', right='on', labelleft='off', labelright='on')\n",
    "plot.plotting_a_rectangle(0, 280,290, 100,100, edgecolor='k')\n",
    "plot.plotting_a_rectangle(1, 134,278, 100,100, edgecolor='k')\n",
    "#plot.plotting_a_rectangle(2, 280,290, 100,100, edgecolor='k')\n",
    "#plot.plotting_a_rectangle(3, 134,278, 100,100, edgecolor='k')\n",
    "plot.axes[0].text(8,8, '(a)', va='top', ha='left', fontsize=10, color='k')\n",
    "plot.axes[1].text(8,8, '(b)', va='top', ha='left', fontsize=10, color='k')\n",
    "plot.axes[2].text(8,8, '(c)', va='top', ha='left', fontsize=10, color='k')\n",
    "plot.axes[3].text(8,8, '(d)', va='top', ha='left', fontsize=10, color='k')\n",
    "plot.axes[4].text(8,8, '(e)', va='top', ha='left', fontsize=10, color='k')\n",
    "plot.axes[5].text(8,8, '(f)', va='top', ha='left', fontsize=10, color='k')\n",
    "plot.axes[9].text(0.01,0.4, '(g)', va='top', ha='left', fontsize=10, color='k')\n",
    "plot.save('/Users/benedikt/phd-project/documentation/manuscripts/omrv-paper/manuscript/figures/fig_background.pdf')\n",
    "plot.show()"
   ]
  },
  {
   "cell_type": "markdown",
   "metadata": {},
   "source": [
    "**Figure 5.**\n",
    "Per-pixel variance and mean of photon counts on the back (a,c) and the center part of the front (b,d) detector after aperture alignment                                   \n",
    "based on $15\\,127$ X-ray background (no injection) frames.                                                                                                                         \n",
    "The median photon count inside the black boxes were $4.63\\cdot10^{-4}$ (back) and $1.98\\cdot10^{-4}$ (front).                                                                      \n",
    "The per-pixel index of dispersion (ratio of variance over mean) for the back (e) and the front (f) marks areas that follow Poisson statistics (ratio of 1).                        \n",
    "Masked areas (no photons detected, bad pixels) are colored in gray for (a-f).                                                                                                      \n",
    "Radial average of the mean photon counts from the X-ray background (c,d) in comparison to mean photon counts from buffer background.                                               \n",
    "Intensity values from the back detector are up-scaled according to given detector distances (relative to interaction point). "
   ]
  },
  {
   "cell_type": "markdown",
   "metadata": {},
   "source": [
    "### 6. More analysis"
   ]
  },
  {
   "cell_type": "code",
   "execution_count": 26,
   "metadata": {
    "collapsed": false
   },
   "outputs": [
    {
     "name": "stdout",
     "output_type": "stream",
     "text": [
      "Average photon count inside black rectangle (back):  4.625346e-04 \n",
      "Average photon count inside black rectangle (front): 1.982816e-04 \n",
      "Average photon count inside black rectangle (back):  4.627487e-04 \n",
      "Average photon count inside black rectangle (front): 1.983209e-04 \n"
     ]
    }
   ],
   "source": [
    "print \"Average photon count inside black rectangle (back):  %e \" %np.median(im0[290:390,280:380])\n",
    "print \"Average photon count inside black rectangle (front): %e \" %np.median(im1[278:378,134:234])\n",
    "print \"Average photon count inside black rectangle (back):  %e \" %np.nanmedian(im2[290:390,280:380])\n",
    "print \"Average photon count inside black rectangle (front): %e \" %np.nanmedian(im3[278:378,134:234])"
   ]
  },
  {
   "cell_type": "code",
   "execution_count": 82,
   "metadata": {
    "collapsed": false
   },
   "outputs": [
    {
     "data": {
      "image/png": "[encoded data removed]",
      "text/plain": [
       "<matplotlib.figure.Figure at 0x10df7d6d0>"
      ]
     },
     "metadata": {},
     "output_type": "display_data"
    }
   ],
   "source": [
    "# Plotting a histogram of mean inside black box (back)\n",
    "plotting.plt.hist(back_mean[290:390,280:380].flat, range=(1e-4, 1e-3), bins=14)\n",
    "plotting.plt.show()"
   ]
  },
  {
   "cell_type": "code",
   "execution_count": 107,
   "metadata": {
    "collapsed": false
   },
   "outputs": [
    {
     "data": {
      "image/png": "[encoded data removed]",
      "text/plain": [
       "<matplotlib.figure.Figure at 0x10de4e9d0>"
      ]
     },
     "metadata": {},
     "output_type": "display_data"
    }
   ],
   "source": [
    "# Plotting a histogram of mean inside black box (front)\n",
    "plotting.plt.hist(back_var[290:390,280:380].flat, range=(1e-4, 1e-3), bins=14)\n",
    "plotting.plt.show()"
   ]
  },
  {
   "cell_type": "code",
   "execution_count": 35,
   "metadata": {
    "collapsed": false
   },
   "outputs": [
    {
     "data": {
      "image/png": "[encoded data removed]",
      "text/plain": [
       "<matplotlib.figure.Figure at 0x11922d5d0>"
      ]
     },
     "metadata": {},
     "output_type": "display_data"
    }
   ],
   "source": [
    "# Plotting a histogram of dispersion (back)\n",
    "plotting.plt.hist((xray_back_dispersion[bmask]).flat, range=(0.99, 1.01), bins=200)\n",
    "plotting.plt.show()"
   ]
  },
  {
   "cell_type": "code",
   "execution_count": 36,
   "metadata": {
    "collapsed": false
   },
   "outputs": [
    {
     "data": {
      "image/png": "[encoded data removed]",
      "text/plain": [
       "<matplotlib.figure.Figure at 0x119233590>"
      ]
     },
     "metadata": {},
     "output_type": "display_data"
    }
   ],
   "source": [
    "# Plotting a histogram of dispersion (front)\n",
    "plotting.plt.hist((xray_front_dispersion[fmask]).flat, range=(0.99, 1.01), bins=200)\n",
    "plotting.plt.show()"
   ]
  },
  {
   "cell_type": "code",
   "execution_count": null,
   "metadata": {
    "collapsed": true
   },
   "outputs": [],
   "source": []
  }
 ],
 "metadata": {
  "kernelspec": {
   "display_name": "Python 2",
   "language": "python",
   "name": "python2"
  },
  "language_info": {
   "codemirror_mode": {
    "name": "ipython",
    "version": 2
   },
   "file_extension": ".py",
   "mimetype": "text/x-python",
   "name": "python",
   "nbconvert_exporter": "python",
   "pygments_lexer": "ipython2",
   "version": "2.7.10"
  }
 },
 "nbformat": 4,
 "nbformat_minor": 0
}
