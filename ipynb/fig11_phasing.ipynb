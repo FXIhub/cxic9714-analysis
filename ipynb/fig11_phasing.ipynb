{
 "cells": [
  {
   "cell_type": "markdown",
   "metadata": {},
   "source": [
    "## Phasing of single diffraction pattern (Fig. 11)"
   ]
  },
  {
   "cell_type": "code",
   "execution_count": 1,
   "metadata": {
    "collapsed": false
   },
   "outputs": [],
   "source": [
    "# Import modules\n",
    "import sys, h5py\n",
    "import numpy as np\n",
    "import scipy.ndimage as ndimage\n",
    "import spimage\n",
    "%matplotlib inline\n",
    "\n",
    "# Import modules from src directory\n",
    "sys.path.append(\"../src\")\n",
    "import plotting"
   ]
  },
  {
   "cell_type": "code",
   "execution_count": 2,
   "metadata": {
    "collapsed": true
   },
   "outputs": [],
   "source": [
    "plotdir = '/Users/benedikt/phd-project/documentation/manuscripts/omrv-paper/manuscript/figures/'"
   ]
  },
  {
   "cell_type": "code",
   "execution_count": 3,
   "metadata": {
    "collapsed": true
   },
   "outputs": [],
   "source": [
    "# Configuration (Experiment)\n",
    "distance_back  = 2.4 #[m]\n",
    "distance_front = 0.497 #[m]\n",
    "pixelsize = 110e-6 #[m]\n",
    "wavelength = 0.2262e-9 #[m]\n",
    "downsampling = 4"
   ]
  },
  {
   "cell_type": "code",
   "execution_count": 4,
   "metadata": {
    "collapsed": true
   },
   "outputs": [],
   "source": [
    "# Convert index to q (in nm)\n",
    "x_to_q = lambda x, d: (2*np.sin(np.arctan2(x*pixelsize*downsampling, d)/2.)) / wavelength / 1e9"
   ]
  },
  {
   "cell_type": "markdown",
   "metadata": {},
   "source": [
    "### 1. Loading data from file"
   ]
  },
  {
   "cell_type": "code",
   "execution_count": 5,
   "metadata": {
    "collapsed": false
   },
   "outputs": [],
   "source": [
    "# Loading the phased reconstruction\n",
    "filename = \"../meta/phasing.h5\"\n",
    "with h5py.File(filename, 'r') as f:\n",
    "    recons  = f['real_space_final'][:]\n",
    "    fourier = f['fourier_space_final'][:]\n",
    "    support = f['support_final'][:]\n",
    "    rerror  = f[\"real_error\"][:]\n",
    "    ferror  = f[\"fourier_error\"][:]"
   ]
  },
  {
   "cell_type": "code",
   "execution_count": 6,
   "metadata": {
    "collapsed": false
   },
   "outputs": [
    {
     "name": "stdout",
     "output_type": "stream",
     "text": [
      "One pixel in real space corresponds to 2.0 nm\n"
     ]
    }
   ],
   "source": [
    "# Pixelsize in real space\n",
    "dx = wavelength * distance_front / (fourier.shape[1] * pixelsize*downsampling) #[m/px]\n",
    "print \"One pixel in real space corresponds to %.1f nm\" %(dx*1e9)"
   ]
  },
  {
   "cell_type": "markdown",
   "metadata": {},
   "source": [
    "### 2. Validation using PRTF"
   ]
  },
  {
   "cell_type": "code",
   "execution_count": 9,
   "metadata": {
    "collapsed": false
   },
   "outputs": [],
   "source": [
    "# Calculate PRTF\n",
    "output_prtf = spimage.prtf(recons, support, enantio=True, translate=True)\n",
    "\n",
    "# Collect PRTF results\n",
    "superimage = output_prtf['super_image']\n",
    "prtf_2d    = output_prtf['prtf']\n",
    "\n",
    "# Radial average of PRTF\n",
    "nx, ny = prtf_2d.shape[1], prtf_2d.shape[0]\n",
    "xx,yy = np.meshgrid(np.arange(nx),np.arange(ny))\n",
    "mask_radial = np.sqrt((xx-nx/2)**2 + (yy-ny/2)**2) < nx/2\n",
    "prtf_centers, prtf_radial = spimage.radialMeanImage(prtf_2d, msk=mask_radial, output_r=True)\n",
    "prtf_qr = x_to_q(prtf_centers, distance_front)\n",
    "limit_qr = prtf_qr[np.abs(ndimage.gaussian_filter1d(prtf_radial,2) - (1/np.e)).argmin()]"
   ]
  },
  {
   "cell_type": "markdown",
   "metadata": {},
   "source": [
    "### 3. Plotting"
   ]
  },
  {
   "cell_type": "code",
   "execution_count": 12,
   "metadata": {
    "collapsed": false
   },
   "outputs": [
    {
     "data": {
      "image/png": "[encoded data removed]",
      "text/plain": [
       "<matplotlib.figure.Figure at 0x1b537b950>"
      ]
     },
     "metadata": {},
     "output_type": "display_data"
    },
    {
     "name": "stdout",
     "output_type": "stream",
     "text": [
      "The PRTF drops below 1/e at a resolution of 13.45 nm\n"
     ]
    }
   ],
   "source": [
    "plot = plotting.Plot(fontsize=8, rows=1, cols=3, legend=True, legend_frameon=False, exclude=(1,2), save_pdf=True)\n",
    "plot.add_axes((1,0),2,1, padx=0)\n",
    "plot.add_axes((0,0),1,1, hfrac=0.1)\n",
    "plot.xlabel = ['', r'Spatial frequency [nm$^{-1}$]']\n",
    "plot.ylabel = ['', 'PRTF']\n",
    "plot.title_label = 2*['']\n",
    "\n",
    "plot.plotting_a_map(0, np.abs(superimage)[46:-44,45:-45], cmap='magma', \n",
    "                    colorbar=True, cax=plot.axes[2], colorbar_orientation='horizontal')\n",
    "plot.axes[0].set_xticks([])\n",
    "plot.axes[0].set_xticklabels([])\n",
    "plot.axes[0].set_yticks([])\n",
    "plot.axes[0].set_yticklabels([])\n",
    "plot.plotting_a_rectangle(0, 25, 2, 20./(1e9*dx), 1, facecolor='w', edgecolor='w')\n",
    "plot.axes[0].text(-1, -5, '(a)', va='top', ha='left', fontsize=10)\n",
    "\n",
    "plot.plotting_traces(1, [prtf_qr[:-5][::4]], \n",
    "                     [prtf_radial[:-5].reshape((15,4)).mean(axis=1)], \n",
    "                     [''], ylim=[0,1],xlim=[prtf_qr[0],0.2],\n",
    "                     linestyles=['-'], linewidths=[1], markers=[None],\n",
    "                     mecs=['k'], mfcs=['k'], colors=['k'])\n",
    "plot.axes[1].axhline(1/np.e, ls=':', color='k')\n",
    "plot.axes[1].axvline(1/14., color='k', ls='--')\n",
    "plot.axes[1].tick_params(labelright='on', labelleft='off')\n",
    "plot.axes[1].yaxis.set_label_position('right')\n",
    "plot.axes[1].text(0, 1.1, '(b)', va='top', ha='left', fontsize=10)\n",
    "plot.axes[1].text(0.18, 1/np.e, '1/e', va='bottom')\n",
    "\n",
    "plot.axes[2].set_ylabel('')\n",
    "plot.axes[2].set_xlabel(r'Electron density [arb. units]', fontsize=8)\n",
    "plot.axes[2].tick_params(axis='x', which='both', top='off', bottom='off', labeltop='off', labelbottom='off')\n",
    "plot.axes[2].text(0.02,0.4, '0', color='w', va='center', ha='left', fontsize=8)\n",
    "plot.axes[2].text(0.98,0.4, '1', color='k', va='center', ha='right', fontsize=8)\n",
    "\n",
    "#plot.save(plotdir + 'fig_phasing.pdf')\n",
    "plot.show()\n",
    "print \"The PRTF drops below 1/e at a resolution of %.2f nm\" %(1./limit_qr)"
   ]
  },
  {
   "cell_type": "markdown",
   "metadata": {
    "collapsed": true
   },
   "source": [
    "**Figure 11.**\n",
    "Image reconstruction based on an individual diffraction pattern of a sample-sized object.                                       \n",
    "(a) Average magnitude based on $5000$ independent reconstructions. The scale bar indicates 20 nm.                                                                                  \n",
    "(b) Phase retrieval transfer function (PRTF) dropping below 1/e (dotted line) at a resolution of $13.5$ nm (dashed line)."
   ]
  }
 ],
 "metadata": {
  "kernelspec": {
   "display_name": "Python 2",
   "language": "python",
   "name": "python2"
  },
  "language_info": {
   "codemirror_mode": {
    "name": "ipython",
    "version": 2
   },
   "file_extension": ".py",
   "mimetype": "text/x-python",
   "name": "python",
   "nbconvert_exporter": "python",
   "pygments_lexer": "ipython2",
   "version": "2.7.10"
  }
 },
 "nbformat": 4,
 "nbformat_minor": 0
}
