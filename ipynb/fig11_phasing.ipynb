{
 "cells": [
  {
   "cell_type": "markdown",
   "metadata": {},
   "source": [
    "## Phasing of single diffraction pattern (Fig. 11)"
   ]
  },
  {
   "cell_type": "code",
   "execution_count": 1,
   "metadata": {
    "collapsed": false
   },
   "outputs": [],
   "source": [
    "# Use autoreload\n",
    "%load_ext autoreload\n",
    "%autoreload 2\n",
    "\n",
    "# Import modules\n",
    "import sys, h5py\n",
    "import numpy as np\n",
    "import scipy.ndimage as ndimage\n",
    "import spimage\n",
    "%matplotlib inline\n",
    "\n",
    "# Import modules from src directory\n",
    "sys.path.append(\"../src\")\n",
    "import plotting"
   ]
  },
  {
   "cell_type": "code",
   "execution_count": 2,
   "metadata": {
    "collapsed": true
   },
   "outputs": [],
   "source": [
    "# Configuration (Experiment)\n",
    "distance_back  = 2.4 #[m]\n",
    "distance_front = 0.497 #[m]\n",
    "pixelsize = 110e-6 #[m]\n",
    "wavelength = 0.2262e-9 #[m]\n",
    "downsampling = 4"
   ]
  },
  {
   "cell_type": "markdown",
   "metadata": {},
   "source": [
    "### 1. Loading data from file"
   ]
  },
  {
   "cell_type": "code",
   "execution_count": null,
   "metadata": {
    "collapsed": false
   },
   "outputs": [],
   "source": [
    "# Loading the signal (assembled)\n",
    "filename = \"../meta/phasing.h5\"\n",
    "N = 5000\n",
    "with h5py.File(filename, 'r') as f:\n",
    "    recons  = f['real_space_final'][:N]\n",
    "    fourier = f['fourier_space_final'][:N]\n",
    "    support = f['support_final'][:N]\n",
    "    rerror  = f[\"real_error\"][:N]\n",
    "    ferror  = f[\"fourier_error\"][:N]"
   ]
  },
  {
   "cell_type": "markdown",
   "metadata": {},
   "source": [
    "### 2. Validation using PRTF"
   ]
  },
  {
   "cell_type": "code",
   "execution_count": null,
   "metadata": {
    "collapsed": false
   },
   "outputs": [],
   "source": [
    "valid = (ferror < 0.2151) & (rerror < 0.1402)\n",
    "print valid.sum()\n",
    "print recons.shape"
   ]
  },
  {
   "cell_type": "code",
   "execution_count": null,
   "metadata": {
    "collapsed": true
   },
   "outputs": [],
   "source": [
    "# Calculate PRTF\n",
    "output_prtf = spimage.prtf(recons, support, enantio=True, translate=True)"
   ]
  },
  {
   "cell_type": "code",
   "execution_count": null,
   "metadata": {
    "collapsed": true
   },
   "outputs": [],
   "source": [
    "# Collect PRTF results\n",
    "superimage = output_prtf['super_image']\n",
    "prtf_2d    = output_prtf['prtf']"
   ]
  },
  {
   "cell_type": "code",
   "execution_count": null,
   "metadata": {
    "collapsed": false
   },
   "outputs": [],
   "source": [
    "# Save to file\n",
    "with h5py.File('../analysis/phasing/prtf.h5', 'w') as f:\n",
    "    f['super_image'] = superimage\n",
    "    f['prtf'] = prtf_2d"
   ]
  },
  {
   "cell_type": "code",
   "execution_count": null,
   "metadata": {
    "collapsed": false
   },
   "outputs": [],
   "source": [
    "nx, ny = prtf_2d.shape[1], prtf_2d.shape[0]\n",
    "xx,yy = np.meshgrid(np.arange(nx),np.arange(ny))\n",
    "mask_radial = np.sqrt((xx-nx/2)**2 + (yy-ny/2)**2) < nx/2\n",
    "prtf_centers, prtf_radial = spimage.radialMeanImage(prtf_2d, msk=mask_radial, output_r=True)\n",
    "prtf_qr = x_to_q(prtf_centers, distance_front)\n",
    "limit_qr = prtf_qr[np.abs(ndimage.gaussian_filter1d(prtf_radial,2) - (1/np.e)).argmin()]"
   ]
  },
  {
   "cell_type": "code",
   "execution_count": null,
   "metadata": {
    "collapsed": false
   },
   "outputs": [],
   "source": [
    "# Pixelsize in real space\n",
    "dx = wavelength * distance_front / (intensities_cropped.shape[0] * pixelsize*downsampling) #[m/px]\n",
    "print \"One pixel in real space corresponds to %.1f nm\" %(dx*1e9)\n",
    "print \"The support should have a size (diameter) of about %.2f px\" %(signal_diameter / (dx*1e9))"
   ]
  },
  {
   "cell_type": "markdown",
   "metadata": {},
   "source": [
    "### 3. Plotting"
   ]
  },
  {
   "cell_type": "code",
   "execution_count": null,
   "metadata": {
    "collapsed": false
   },
   "outputs": [],
   "source": [
    "plot = plotting.Plot(fontsize=8, rows=1, cols=3, legend=True, legend_frameon=False, exclude=(1,2), save_pdf=True)\n",
    "plot.add_axes((1,0),2,1, padx=0)\n",
    "plot.xlabel = ['', r'Spatial frequency [nm$^{-1}$]']\n",
    "plot.ylabel = ['', 'PRTF']\n",
    "plot.title_label = 2*['']\n",
    "\n",
    "plot.plotting_a_map(0, np.abs(superimage)[46:-44,45:-45], cmap='magma')\n",
    "plot.axes[0].set_xticks([])\n",
    "plot.axes[0].set_xticklabels([])\n",
    "plot.axes[0].set_yticks([])\n",
    "plot.axes[0].set_yticklabels([])\n",
    "plot.plotting_a_rectangle(0, 25, 34, 20./(1e9*dx), 1, facecolor='k', edgecolor='k')\n",
    "#plot.axes[0].text(15+20./(1e9*dx), 34, '40 nm', ha='center', va='bottom', fontsize=10, color='k')\n",
    "plot.axes[0].text(-1, -5, '(a)', va='top', ha='left', fontsize=10)\n",
    "\n",
    "plot.plotting_traces(1, [prtf_qr[:-5][::4]], \n",
    "                     [prtf_radial[:-5].reshape((15,4)).mean(axis=1)], \n",
    "                     [''], ylim=[0,1],xlim=[prtf_qr[0],0.2],\n",
    "                     linestyles=['-'], linewidths=[1], markers=[None],\n",
    "                     mecs=['k'], mfcs=['k'], colors=['k'])\n",
    "plot.axes[1].axhline(1/np.e, ls=':', color='k')\n",
    "plot.axes[1].axvline(1/14., color='k', ls='--')\n",
    "plot.axes[1].tick_params(labelright='on', labelleft='off')\n",
    "plot.axes[1].yaxis.set_label_position('right')\n",
    "plot.axes[1].text(0, 1.1, '(b)', va='top', ha='left', fontsize=10)\n",
    "plot.axes[1].text(0.18, 1/np.e, '1/e', va='bottom')\n",
    "\n",
    "plot.save('/Users/benedikt/phd-project/documentation/manuscripts/omrv-paper/manuscript/figures/fig_phasing.pdf')\n",
    "plot.show()\n",
    "print \"The PRTF drops below 1/e at a resolution of %.2f nm\" %(1./limit_qr)"
   ]
  },
  {
   "cell_type": "code",
   "execution_count": null,
   "metadata": {
    "collapsed": false
   },
   "outputs": [],
   "source": [
    "plot = plotting.Plot(fontsize=8, axes_visible=False, save_png=True)\n",
    "plot.title_label = ['']\n",
    "plot.xlabel = ['']\n",
    "plot.ylabel = ['']\n",
    "plot.plotting_a_map(0, np.abs(recons[0][32:-32,32:-32]), cmap='magma')\n",
    "#plot.plotting_a_rectangle(0, 100, 118, 40./(1e9*dx), 2, facecolor='w', edgecolor='w')\n",
    "#plot.axes[0].text(100+20./(1e9*dx), 116, '40 nm', ha='center', va='bottom', fontsize=12, color='w')\n",
    "#plot.save('../plots/phasing_recons.png')\n",
    "plot.show()"
   ]
  },
  {
   "cell_type": "code",
   "execution_count": null,
   "metadata": {
    "collapsed": false
   },
   "outputs": [],
   "source": [
    "plot = plotting.Plot(fontsize=8, axes_visible=False, save_png=True)\n",
    "plot.title_label = ['']\n",
    "plot.xlabel = ['']\n",
    "plot.ylabel = ['']\n",
    "plot.plotting_a_map(0, np.abs(superimage)[45:-45,45:-45], cmap='gray_r')\n",
    "#plot.plotting_a_rectangle(0, 100, 118, 40./(1e9*dx), 2, facecolor='w', edgecolor='w')\n",
    "#plot.axes[0].text(100+20./(1e9*dx), 116, '40 nm', ha='center', va='bottom', fontsize=12, color='w')\n",
    "#plot.save('../plots/phasing_recons.png')\n",
    "plot.show()"
   ]
  },
  {
   "cell_type": "code",
   "execution_count": null,
   "metadata": {
    "collapsed": false
   },
   "outputs": [],
   "source": [
    "plot = plotting.Plot(fontsize=8, colorbar=True, axes_visible=False, save_png=True)\n",
    "plot.title_label = ['']\n",
    "plot.xlabel = ['']\n",
    "plot.ylabel = ['']\n",
    "prtf_img = ndimage.gaussian_filter(prtf_2d,2)\n",
    "plot.plotting_a_map(0, spimage.downsample(prtf_2d,2) , mask=None, log=False, vmin=0, vmax=1, bad='0.8', under='w', cmap='jet')"
   ]
  },
  {
   "cell_type": "code",
   "execution_count": null,
   "metadata": {
    "collapsed": true
   },
   "outputs": [],
   "source": [
    "# Convert index to q (in nm)\n",
    "x_to_q = lambda x, d: (2*np.sin(np.arctan2(x*pixelsize*downsampling, d)/2.)) / wavelength / 1e9"
   ]
  },
  {
   "cell_type": "code",
   "execution_count": null,
   "metadata": {
    "collapsed": false
   },
   "outputs": [],
   "source": [
    "prtf_2d_down = spimage.downsample(prtf_2d,1)\n",
    "nx, ny = prtf_2d_down.shape[1], prtf_2d_down.shape[0]\n",
    "xx,yy = np.meshgrid(np.arange(nx),np.arange(ny))\n",
    "mask_radial = np.sqrt((xx-nx/2)**2 + (yy-ny/2)**2) < nx/2\n",
    "prtf_centers, prtf_radial = spimage.radialMeanImage(prtf_2d_down, msk=mask_radial, output_r=True)\n",
    "prtf_qr = x_to_q(prtf_centers, distance_front)\n",
    "limit_qr = prtf_qr[np.abs(ndimage.gaussian_filter1d(prtf_radial,2) - (1/np.e)).argmin()]\n",
    "plot = plotting.Plot(fontsize=8, aspect=.5, legend=True, save_pdf=True)\n",
    "plot.title_label = ['']\n",
    "plot.xlabel = ['']\n",
    "plot.ylabel = ['']\n",
    "plot.plotting_traces(0, [prtf_qr[:-1][::2], prtf_qr], \n",
    "                     [prtf_radial[:-1].reshape((32,2)).mean(axis=1), ndimage.gaussian_filter(prtf_radial,2)], \n",
    "                     ['data', 'smooth'], ylim=[0,1],\n",
    "                     linestyles=['-','-'], linewidths=[1,2], markers=[None,None],\n",
    "                     mecs=['k', 'r'], mfcs=['k', 'r'], colors=['k','r'])\n",
    "plot.axes[0].axhline(1/np.e)\n",
    "plot.axes[0].axvline(limit_qr, color='k', ls='--')\n",
    "print \"The PRTF drops below 1/e at a resolution of %.2f nm\" %(1./limit_qr)"
   ]
  },
  {
   "cell_type": "code",
   "execution_count": null,
   "metadata": {
    "collapsed": false
   },
   "outputs": [],
   "source": [
    "a = prtf_radial[:-1]\n",
    "print a.reshape((32,2)).mean(axis=1)"
   ]
  },
  {
   "cell_type": "code",
   "execution_count": null,
   "metadata": {
    "collapsed": true
   },
   "outputs": [],
   "source": [
    "# Loading the signal (assembled)\n",
    "filename_signal = \"../analysis/signal/signal_assembled.h5\"\n",
    "with h5py.File(filename_signal, 'r') as f:\n",
    "    signal_data = np.rot90(f['data/data'][:], k=2)\n",
    "    signal_mask = ~np.rot90(f['data/mask'][:].astype(np.bool), k=2)  \n",
    "    signal_diameter = f['diameter'][...]\n",
    "    signal_intensity = f['intensity'][...]\n",
    "    signal_id = f['id'][...]"
   ]
  },
  {
   "cell_type": "code",
   "execution_count": null,
   "metadata": {
    "collapsed": true
   },
   "outputs": [],
   "source": [
    "# Downsampling\n",
    "downsampling = 4\n",
    "intensities, mask = spimage.downsample(signal_data, downsampling, mask=signal_mask, mode='integrate')"
   ]
  },
  {
   "cell_type": "code",
   "execution_count": null,
   "metadata": {
    "collapsed": false
   },
   "outputs": [],
   "source": [
    "# Cropping\n",
    "cropping = 154\n",
    "cx, cy = -2,-6\n",
    "intensities_cropped = intensities[cropping+cy:-cropping+cy-1,cropping+cx:-cropping+cx-1]\n",
    "mask_cropped = mask[cropping+cy:-cropping+cy-1,cropping+cx:-cropping+cx-1]\n",
    "sh = intensities_cropped.shape\n",
    "print \"Shape after downsampling and cropping: \", sh"
   ]
  },
  {
   "cell_type": "code",
   "execution_count": null,
   "metadata": {
    "collapsed": true
   },
   "outputs": [],
   "source": [
    "mask_prtf = mask_cropped & np.rot90(np.rot90(mask_cropped))"
   ]
  },
  {
   "cell_type": "code",
   "execution_count": null,
   "metadata": {
    "collapsed": true
   },
   "outputs": [],
   "source": [
    "mask_test = ndimage.gaussian_filter(prtf_2d,2)>1./np.e"
   ]
  },
  {
   "cell_type": "code",
   "execution_count": null,
   "metadata": {
    "collapsed": false
   },
   "outputs": [],
   "source": [
    "plot = plotting.Plot(fontsize=8, axes_visible=False, save_png=True)\n",
    "plot.title_label = ['']\n",
    "plot.xlabel = ['']\n",
    "plot.ylabel = ['']\n",
    "plot.plotting_a_map(0, np.abs(fourier[-1])**2, \n",
    "                    log=True, mask=mask_test, bad='0.8', under='w', vmin=1e-5, vmax=100, cmap='BuPu')\n",
    "plot.show()"
   ]
  },
  {
   "cell_type": "code",
   "execution_count": null,
   "metadata": {
    "collapsed": false
   },
   "outputs": [],
   "source": [
    "plotting.plt.figure(figsize=(20,20))\n",
    "plotting.plt.scatter(rerror[valid], ferror[valid])\n",
    "plotting.plt.axhline(0.2151)\n",
    "plotting.plt.axvline(0.1402)\n",
    "#plotting.plt.xlim([])\n",
    "plotting.plt.show()"
   ]
  },
  {
   "cell_type": "code",
   "execution_count": null,
   "metadata": {
    "collapsed": false
   },
   "outputs": [],
   "source": [
    "\n",
    "plotting.plt.figure(figsize=(20,20))\n",
    "plotting.plt.hist2d(rerror, ferror, bins=100, norm=plotting.colors.LogNorm(), cmap='hot')\n",
    "plotting.plt.colorbar()\n",
    "plotting.plt.show()"
   ]
  },
  {
   "cell_type": "code",
   "execution_count": null,
   "metadata": {
    "collapsed": false
   },
   "outputs": [],
   "source": [
    "prtf_radial"
   ]
  },
  {
   "cell_type": "code",
   "execution_count": null,
   "metadata": {
    "collapsed": true
   },
   "outputs": [],
   "source": [
    "def rebin( a, newshape ):\n",
    "        '''Rebin an array to a new shape.\n",
    "        '''\n",
    "        assert len(a.shape) == len(newshape)\n",
    "\n",
    "        slices = [ slice(0,old, float(old)/new) for old,new in zip(a.shape,newshape) ]\n",
    "        coordinates = np.mgrid[slices]\n",
    "        indices = coordinates.astype('i')   #choose the biggest smaller integer index\n",
    "        return a[tuple(indices)]"
   ]
  },
  {
   "cell_type": "code",
   "execution_count": null,
   "metadata": {
    "collapsed": false
   },
   "outputs": [],
   "source": [
    "print type(prtf_radial[:-1])\n",
    "print rebin(prtf_radial[:-1], (32,))"
   ]
  },
  {
   "cell_type": "code",
   "execution_count": null,
   "metadata": {
    "collapsed": true
   },
   "outputs": [],
   "source": []
  }
 ],
 "metadata": {
  "kernelspec": {
   "display_name": "Python 2",
   "language": "python",
   "name": "python2"
  },
  "language_info": {
   "codemirror_mode": {
    "name": "ipython",
    "version": 2
   },
   "file_extension": ".py",
   "mimetype": "text/x-python",
   "name": "python",
   "nbconvert_exporter": "python",
   "pygments_lexer": "ipython2",
   "version": "2.7.10"
  }
 },
 "nbformat": 4,
 "nbformat_minor": 0
}
