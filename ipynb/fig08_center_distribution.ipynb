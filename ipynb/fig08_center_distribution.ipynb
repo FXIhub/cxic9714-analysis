{
 "cells": [
  {
   "cell_type": "markdown",
   "metadata": {},
   "source": [
    "## Center distribution (Figure 8)"
   ]
  },
  {
   "cell_type": "markdown",
   "metadata": {},
   "source": [
    "We are studying the center distribution."
   ]
  },
  {
   "cell_type": "code",
   "execution_count": 2,
   "metadata": {
    "collapsed": true
   },
   "outputs": [],
   "source": [
    "# Import modules\n",
    "import sys, h5py\n",
    "import numpy as np\n",
    "%matplotlib inline\n",
    "\n",
    "# Import modules from src directory\n",
    "sys.path.append(\"../src\")\n",
    "import plotting"
   ]
  },
  {
   "cell_type": "markdown",
   "metadata": {},
   "source": [
    "### 1. Loading data from file"
   ]
  },
  {
   "cell_type": "code",
   "execution_count": 3,
   "metadata": {
    "collapsed": true
   },
   "outputs": [],
   "source": [
    "results_filename = '../analysis/results/results.h5'\n",
    "with h5py.File(results_filename, 'r') as f:\n",
    "    diameter  = f['diameter'][:]\n",
    "    intensity = f['intensity'][:]\n",
    "    centerx   = f['centerx'][:]\n",
    "    centery   = f['centery'][:]\n",
    "    hitscore  = f['npeaks'][:]\n",
    "    time      = f['time_s'][:]\n",
    "    injectorx = f['injector_posx'][:]\n",
    "    injectorz = f['injector_posz'][:]"
   ]
  },
  {
   "cell_type": "markdown",
   "metadata": {},
   "source": [
    "### 2. Converting units"
   ]
  },
  {
   "cell_type": "code",
   "execution_count": 4,
   "metadata": {
    "collapsed": false
   },
   "outputs": [],
   "source": [
    "# Correct for detector efficiency\n",
    "intensity *= (1./0.955)\n",
    "\n",
    "# Intensity in Nr. of photons\n",
    "h = 6.62606957e-34 #Js\n",
    "c = 299792458 #m/s\n",
    "hc = h*c  #Jm\n",
    "wavelength  = 0.22621e-9 #[m]\n",
    "intensity_NrPhum2 = ((intensity / 1000.) * wavelength) / (hc)\n",
    "intensity_NrPh    = intensity_NrPhum2 * np.pi * (1e-3*diameter/2.)**2\n",
    "intensity = intensity_NrPhum2"
   ]
  },
  {
   "cell_type": "markdown",
   "metadata": {},
   "source": [
    "### 3. Plotting"
   ]
  },
  {
   "cell_type": "code",
   "execution_count": 6,
   "metadata": {
    "collapsed": false
   },
   "outputs": [],
   "source": [
    "plot = plotting.Plot(fontsize=8, cols=3, rows=2, exclude=[0,1,3,4], \n",
    "                           axes_visible=False, colorbar=True, colorbar_left=True, save_pdf=True)\n",
    "plot.add_axes((0,0), 2, 2, padx=-0.05)\n",
    "plot.xlabel = [r'', r'', r'Horizontal deviation in mrad']\n",
    "plot.ylabel = [r'', r'', r'Vertical deviation in mrad']\n",
    "plot.title_label = 3*['']\n",
    "plot.colorbar_label = r'Photon intensity [photons$/\\mu$m$^2$]'\n",
    "plot.set_axes_layout(plot.axes[0], visible=False)\n",
    "plot.set_axes_layout(plot.axes[1], visible=False)\n",
    "plot.plotting_a_heatmap(0, centerx - 0.018, centery - 0.008,\n",
    "                        [(-0.6,0.7), (-1.3,0.4)], bins=[13, 17], cmaplist=['gray'], log=False)\n",
    "plot.axes[0].text(0.8, 0.4, '(b)', va='top', ha='left', fontsize=10)\n",
    "plot.plotting_a_meanmap(1, centerx - 0.018, centery - 0.008,\n",
    "                        intensity, [(-0.6,0.7), (-1.3,0.4)], bins=[13, 17], cmaplist=['GnBu'], \n",
    "                        vmin=5e8, vmax=5e12, log=True)\n",
    "plot.axes[1].text(0.8, 0.4, '(c)', va='top', ha='left', fontsize=10)\n",
    "plot.plotting_correlation3d(2, centerx - 0.018, centery - 0.008,\n",
    "                            intensity, cmap='GnBu', alpha=0.8, ms=5, scale_size=False, xlim=[-0.6,0.7],\n",
    "                            ylim=[-1.3,0.4], vmin=5e8, vmax=5e12, log=True)\n",
    "plot.set_colorbar_layout(tickpos='left', direction='in', pad=5, labelpad=-50, ticks=None, color='black', \n",
    "                         ticklabels=None)\n",
    "[plot.axes[2].axvline(i, color='k', ls='-', lw=0.5, alpha=1) for i in np.arange(-0.5,0.7,0.1)]\n",
    "[plot.axes[2].axhline(i, color='k', ls='-', lw=0.5, alpha=1) for i in np.arange(-1.3,0.4,0.1)]\n",
    "plot.axes[2].yaxis.tick_right()\n",
    "plot.axes[2].yaxis.set_label_position(\"right\")\n",
    "plot.axes[2].set_xticklabels([])\n",
    "plot.axes[2].set_yticklabels([])\n",
    "plot.axes[2].text(-0.6, 0.52, '(a)', va='top', ha='left', fontsize=10)\n",
    "\n",
    "plot.save('/Users/benedikt/phd-project/documentation/manuscripts/omrv-paper/manuscript/figures/fig_center_distribution.pdf')\n",
    "plot.show()  "
   ]
  },
  {
   "cell_type": "markdown",
   "metadata": {},
   "source": [
    "**Figure 8.**\n",
    "Map of local phase deviations of the wavefront in the focus of the X-ray beam.                                                                                            \n",
    "(a) Relative vertical/horizontal deviations from a planar wavefront with                                                                                                           \n",
    "estimated photon intensity coded in color. The horizontal axis spans 1.3 mrad and the vertical                                                                                     \n",
    "axis spans 1.7 mrad. Each box on the grid has dimensions $0.1\\times0.1$~mrad.                                                                                                      \n",
    "(b) 2D histogram showing the number of events in each box (black = 0, white = 180).                                                                                                \n",
    "(c) Map of average photon intensity inside each box coded according to color scale on the left."
   ]
  },
  {
   "cell_type": "code",
   "execution_count": null,
   "metadata": {
    "collapsed": true
   },
   "outputs": [],
   "source": []
  }
 ],
 "metadata": {
  "kernelspec": {
   "display_name": "Python 2",
   "language": "python",
   "name": "python2"
  },
  "language_info": {
   "codemirror_mode": {
    "name": "ipython",
    "version": 2
   },
   "file_extension": ".py",
   "mimetype": "text/x-python",
   "name": "python",
   "nbconvert_exporter": "python",
   "pygments_lexer": "ipython2",
   "version": "2.7.10"
  }
 },
 "nbformat": 4,
 "nbformat_minor": 0
}
