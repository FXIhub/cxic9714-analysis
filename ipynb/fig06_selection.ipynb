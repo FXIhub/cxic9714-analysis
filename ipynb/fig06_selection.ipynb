{
 "cells": [
  {
   "cell_type": "markdown",
   "metadata": {},
   "source": [
    "## Selection of diffraction patterns (Figure 6)"
   ]
  },
  {
   "cell_type": "markdown",
   "metadata": {},
   "source": [
    "We are showing a selection of assembled diffraction patterns."
   ]
  },
  {
   "cell_type": "code",
   "execution_count": 40,
   "metadata": {
    "collapsed": true
   },
   "outputs": [],
   "source": [
    "# Import modules\n",
    "import sys, h5py\n",
    "import numpy as np\n",
    "%matplotlib inline\n",
    "\n",
    "# Import modules from src directory\n",
    "sys.path.append(\"../src\")\n",
    "import plotting"
   ]
  },
  {
   "cell_type": "markdown",
   "metadata": {},
   "source": [
    "### 1. Loading data from file"
   ]
  },
  {
   "cell_type": "code",
   "execution_count": 4,
   "metadata": {
    "collapsed": true
   },
   "outputs": [],
   "source": [
    "filename_assembled1 = '../analysis/selection/assembled_above1mJ.h5'\n",
    "filename_assembled2 = '../analysis/selection/assembled_correct.h5'"
   ]
  },
  {
   "cell_type": "code",
   "execution_count": 18,
   "metadata": {
    "collapsed": false
   },
   "outputs": [],
   "source": [
    "data, mask, diameter, intensity, hitscore = [], [], [], [], []\n",
    "with h5py.File(filename_assembled1, 'r') as f:\n",
    "    data.append(f['data/data'][:])\n",
    "    mask.append(f['data/mask'][:])\n",
    "    diameter.append(f['diameter'][:])\n",
    "    intensity.append(f['intensity'][:])\n",
    "    hitscore.append(f['npeaks'][:])\n",
    "\n",
    "with h5py.File(filename_assembled2, 'r') as f:\n",
    "    data.append(f['data/data'][:])\n",
    "    mask.append(f['data/mask'][:])\n",
    "    diameter.append(f['diameter'][:])\n",
    "    intensity.append(f['intensity'][:])\n",
    "    hitscore.append(f['npeaks'][:])\n",
    "\n",
    "data = np.vstack(data)\n",
    "mask = np.vstack(mask)\n",
    "diameter = np.hstack(diameter)\n",
    "intensity = np.hstack(intensity)\n",
    "hitscore = np.hstack(hitscore)"
   ]
  },
  {
   "cell_type": "markdown",
   "metadata": {},
   "source": [
    "### 2. Selecting patterns"
   ]
  },
  {
   "cell_type": "code",
   "execution_count": 38,
   "metadata": {
    "collapsed": false
   },
   "outputs": [],
   "source": [
    "c = 700\n",
    "data_cropped = data[:,c-18:-c+36,c-24:-c+30]\n",
    "mask_cropped = mask[:,c-18:-c+36,c-24:-c+30]\n",
    "selection = [0, 2, 10, 14, 15, 16, 20, 24]"
   ]
  },
  {
   "cell_type": "markdown",
   "metadata": {},
   "source": [
    "### 3. Plotting"
   ]
  },
  {
   "cell_type": "code",
   "execution_count": 41,
   "metadata": {
    "collapsed": false
   },
   "outputs": [
    {
     "data": {
      "image/png": "[encoded data removed]",
      "text/plain": [
       "<matplotlib.figure.Figure at 0x1125ff550>"
      ]
     },
     "metadata": {},
     "output_type": "display_data"
    }
   ],
   "source": [
    "plot = plotting.Plot(fontsize=8, rows=2, cols=4, border_in=0.0, colorbar=True, save_pdf=True)\n",
    "plot.xlabel = 8*['']\n",
    "plot.ylabel = 8*['']\n",
    "plot.title_label = 8*['']\n",
    "plot.colorbar_label = r'Scattered intensity [photons / pixel]'\n",
    "for i in range(8):\n",
    "    plot.plotting_a_map(i, np.rot90(data_cropped[selection[i]],k=2), mask=np.rot90(~mask_cropped[selection[i]],k=2), \n",
    "                        log=False, vmin=1, vmax=22, discrete_colors=21, under='w', bad='0.9', cmap='discrete')\n",
    "    plot.axes[i].set_xticks([])\n",
    "    plot.axes[i].set_yticks([])\n",
    "    plot.axes[i].set_xticklabels([])\n",
    "    plot.axes[i].set_yticklabels([])\n",
    "    plot.cb.ax.tick_params(length=0, width=0)\n",
    "    plot.cb.set_ticks(list(np.arange(0,24,2) - 0.55))\n",
    "    plot.cb.set_ticklabels(['%d' %d for d in range(0,22,2)[:-1]] + [r'$\\mathbf{\\geq}$ 20'])\n",
    "    plot.cb.outline.set_visible(False)\n",
    "    plot.axes[i].spines['top'].set_linewidth(0.5)\n",
    "    plot.axes[i].spines['right'].set_linewidth(0.5)\n",
    "    plot.axes[i].spines['bottom'].set_linewidth(0.5)\n",
    "    plot.axes[i].spines['left'].set_linewidth(0.5)\n",
    "\n",
    "#plot.save('/Users/benedikt/phd-project/documentation/manuscripts/omrv-paper/manuscript/figures/fig_selection.pdf')\n",
    "plot.show()  "
   ]
  },
  {
   "cell_type": "markdown",
   "metadata": {},
   "source": [
    "**Figure 6.**\n",
    "$8$ selected hits (out of $9\\,576$ hits) showing a variety of different diffraction patterns.                                                                             \n",
    "Masked values are shown in gray."
   ]
  },
  {
   "cell_type": "code",
   "execution_count": null,
   "metadata": {
    "collapsed": true
   },
   "outputs": [],
   "source": []
  }
 ],
 "metadata": {
  "kernelspec": {
   "display_name": "Python 2",
   "language": "python",
   "name": "python2"
  },
  "language_info": {
   "codemirror_mode": {
    "name": "ipython",
    "version": 2
   },
   "file_extension": ".py",
   "mimetype": "text/x-python",
   "name": "python",
   "nbconvert_exporter": "python",
   "pygments_lexer": "ipython2",
   "version": "2.7.10"
  }
 },
 "nbformat": 4,
 "nbformat_minor": 0
}
